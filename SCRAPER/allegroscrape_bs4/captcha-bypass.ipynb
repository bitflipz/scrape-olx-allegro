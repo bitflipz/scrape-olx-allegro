{
 "cells": [
  {
   "cell_type": "code",
   "execution_count": 1,
   "id": "986ab8c2",
   "metadata": {},
   "outputs": [],
   "source": [
    "import requests\n",
    "from bs4 import BeautifulSoup as bs\n",
    "import pandas as pd\n",
    "from lxml import etree"
   ]
  },
  {
   "cell_type": "code",
   "execution_count": 2,
   "id": "96e4fc87",
   "metadata": {},
   "outputs": [
    {
     "data": {
      "text/plain": [
       "<html><body><p>user-agent: *\n",
       "disallow: /showcase.php/\n",
       "disallow: /SendMailToUser.php*\n",
       "disallow: /report_item.php*\n",
       "disallow: /events/clicks\n",
       "disallow: /offer/\n",
       "disallow: /logowanie*\n",
       "disallow: /ape\n",
       "disallow: /payments\n",
       "disallow: /recommendations/\n",
       "disallow: /cart-aggregator/\n",
       "disallow: /favourites/\n",
       "disallow: /usertraits/\n",
       "disallow: /mediation/\n",
       "disallow: *snapshot=*\n",
       "</p></body></html>"
      ]
     },
     "execution_count": 2,
     "metadata": {},
     "output_type": "execute_result"
    }
   ],
   "source": [
    "r = requests.get('https://allegro.pl/robots.txt')\n",
    "bs(r.content)"
   ]
  },
  {
   "cell_type": "code",
   "execution_count": 3,
   "id": "32c5d3c2",
   "metadata": {},
   "outputs": [],
   "source": [
    "URL = 'http://allegro.pl/listing?string=nintendo%20switch'\n",
    "\n",
    "HEADERS = ({'User-Agent':\n",
    "            'Mozilla/5.0 (X11; Linux x86_64) AppleWebKit/537.36 \\\n",
    "            (KHTML, like Gecko) Chrome/44.0.2403.157 Safari/537.36',\\\n",
    "            'Accept-Language': 'en-US, en;q=0.5'})"
   ]
  },
  {
   "cell_type": "code",
   "execution_count": 4,
   "id": "23cd324f",
   "metadata": {},
   "outputs": [],
   "source": [
    "r = requests.get(URL, headers=HEADERS)\n",
    "soup = bs(r.content, \"html.parser\")\n",
    "response = etree.HTML(str(soup))"
   ]
  },
  {
   "cell_type": "code",
   "execution_count": 5,
   "id": "3e90314a",
   "metadata": {
    "scrolled": false
   },
   "outputs": [
    {
     "data": {
      "text/plain": [
       "<html><head><title>allegro.pl</title><style>#cmsg{animation: A 1.5s;}@keyframes A{0%{opacity:0;}99%{opacity:0;}100%{opacity:1;}}</style></head><body style=\"margin:0\"><p id=\"cmsg\">Please enable JS and disable any ad blocker</p><script>var dd={'cid':'AHrlqAAAAAMAJN1iDnI57sMABa2peQ==','hsh':'77DC0FFBAA0B77570F6B414F8E5BDB','t':'fe','s':29560,'host':'geo.captcha-delivery.com'}</script><script src=\"https://ct.captcha-delivery.com/c.js\"></script></body></html>"
      ]
     },
     "execution_count": 5,
     "metadata": {},
     "output_type": "execute_result"
    }
   ],
   "source": [
    "soup"
   ]
  },
  {
   "cell_type": "code",
   "execution_count": 6,
   "id": "13f61778",
   "metadata": {},
   "outputs": [],
   "source": [
    "#cookie dump\n",
    "#pickle.dump( driver.get_cookies() , open(\"cookies.pkl\",\"wb\"))"
   ]
  },
  {
   "cell_type": "code",
   "execution_count": 9,
   "id": "e09351b4",
   "metadata": {},
   "outputs": [
    {
     "name": "stdout",
     "output_type": "stream",
     "text": [
      "setting up...\n",
      "open chrome\n",
      "resolved url: http://allegro.pl/listing?string=nintendo%20switch\n",
      "retrying\n",
      "item found, loading cookies.\n",
      "adding cookie: \n",
      "{'domain': '.allegro.pl', 'expiry': 1682181379, 'httpOnly': False, 'name': '_ga', 'path': '/', 'secure': False, 'value': 'GA1.2.1656039746.1619109372'}\n",
      "adding cookie: \n",
      "{'domain': '.allegro.pl', 'expiry': 1650645378, 'httpOnly': False, 'name': 'datadome', 'path': '/', 'sameSite': 'Lax', 'secure': True, 'value': 'MqnEt.a1VXbo9zjWtEiVmfI6kZj~A~IhPYsTrKHr6xvIZNtmcoR-Wjb_IwghKO6k4rWBx2NiZIHLf~FEbZ0yEHHkC1EdK_YrrtvDPTdJ-S'}\n",
      "adding cookie: \n",
      "{'domain': '.allegro.pl', 'expiry': 1682181378, 'httpOnly': False, 'name': '_ga_G64531DSC4', 'path': '/', 'secure': False, 'value': 'GS1.1.1619109372.1.1.1619109378.54'}\n",
      "adding cookie: \n",
      "{'domain': '.allegro.pl', 'expiry': 1705509371, 'httpOnly': False, 'name': '__gfp_64b', 'path': '/', 'secure': False, 'value': '.LiA1EBsYH9Dpcbkj3V1h7lEOl6i0ZqIMDx5JgHJnvz.t7|1619109371'}\n",
      "adding cookie: \n",
      "{'domain': '.allegro.pl', 'expiry': 1619195779, 'httpOnly': False, 'name': '_gid', 'path': '/', 'secure': False, 'value': 'GA1.2.2016179309.1619109372'}\n",
      "adding cookie: \n",
      "{'domain': '.allegro.pl', 'expiry': 1652805371, 'httpOnly': False, 'name': '__gads', 'path': '/', 'secure': False, 'value': 'ID=6511b24e4198fe0f-22976c66eec70082:T=1619109371:S=ALNI_MZiSigxoq69APx65vDNwpPA5D_zng'}\n",
      "adding cookie: \n",
      "{'domain': '.allegro.pl', 'expiry': 1619109432, 'httpOnly': False, 'name': '_gat_UA-2827377-1', 'path': '/', 'secure': False, 'value': '1'}\n",
      "adding cookie: \n",
      "{'domain': '.allegro.pl', 'expiry': 1626885371, 'httpOnly': False, 'name': '_gcl_au', 'path': '/', 'secure': False, 'value': '1.1.1808362810.1619109371'}\n",
      "adding cookie: \n",
      "{'domain': '.allegro.pl', 'expiry': 1650645372, 'httpOnly': False, 'name': 'gdpr_permission_given', 'path': '/', 'secure': False, 'value': '1'}\n",
      "adding cookie: \n",
      "{'domain': '.allegro.pl', 'expiry': 1682181377, 'httpOnly': False, 'name': '_cmuid', 'path': '/', 'secure': True, 'value': '1f82635b-8db2-4178-bc46-f707a08767c8'}\n",
      "refreshed\n",
      "extracted source\n",
      "quitting\n"
     ]
    }
   ],
   "source": [
    "#cookie dump\n",
    "#pickle.dump( driver.get_cookies() , open(\"cookies.pkl\",\"wb\"))\n",
    "from selenium import webdriver\n",
    "from selenium.webdriver.chrome.options import Options\n",
    "from selenium.webdriver.common.by import By\n",
    "from selenium.webdriver.support.ui import WebDriverWait\n",
    "from selenium.webdriver.support import expected_conditions as EC\n",
    "import pickle\n",
    "import time\n",
    "\n",
    "print('setting up...')\n",
    "DRIVER_PATH = './chromedriver'\n",
    "\n",
    "URL = 'http://allegro.pl/listing?string=nintendo%20switch'\n",
    "\n",
    "options = Options()\n",
    "options.headless = False\n",
    "options.add_argument(\"--window-size=1280,720\")\n",
    "options.add_argument(\"--enable-javascript\")\n",
    "\n",
    "print('open chrome')\n",
    "driver = webdriver.Chrome(options=options, executable_path=DRIVER_PATH)\n",
    "\n",
    "driver.get(URL)\n",
    "print('resolved url: '+URL)\n",
    "\n",
    "try:\n",
    "    print('retrying...')\n",
    "    element = WebDriverWait(driver, 15).until(\n",
    "        EC.visibility_of_element_located((By.ID, \"captcha-container\"))\n",
    "    )\n",
    "except Exception:\n",
    "    pass\n",
    "finally:\n",
    "    print('item found, loading cookies.')\n",
    "    cookies = pickle.load(open(\"cookies.pkl\", \"rb\"))\n",
    "    for cookie in cookies:\n",
    "        driver.add_cookie(cookie)\n",
    "        print(f'adding cookie: \\n{cookie}')\n",
    "    time.sleep(6)\n",
    "    driver.refresh()\n",
    "    print('refreshed')\n",
    "    time.sleep(5)\n",
    "    html_page = driver.page_source\n",
    "    print('extracted source')\n",
    "    time.sleep(2)\n",
    "    print('quitting')\n",
    "    driver.quit()"
   ]
  },
  {
   "cell_type": "code",
   "execution_count": 8,
   "id": "f85b501e",
   "metadata": {
    "scrolled": false
   },
   "outputs": [
    {
     "data": {
      "text/plain": [
       "'<html><head><title>allegro.pl</title><style>#cmsg{animation: A 1.5s;}@keyframes A{0%{opacity:0;}99%{opacity:0;}100%{opacity:1;}}</style><meta name=\"viewport\" content=\"width=device-width, initial-scale=1.0\"></head><body style=\"margin:0\"><script>var dd={\\'cid\\':\\'AHrlqAAAAAMA9o7ND-9g2u8ABa2peQ==\\',\\'hsh\\':\\'77DC0FFBAA0B77570F6B414F8E5BDB\\',\\'t\\':\\'fe\\',\\'s\\':29560,\\'host\\':\\'geo.captcha-delivery.com\\'}</script><script src=\"https://ct.captcha-delivery.com/c.js\"></script><script>if(\"string\"==typeof navigator.userAgent&&navigator.userAgent.indexOf(\"Firefox\")>-1){var isIframeLoaded=!1,maxTimeoutMs=5e3;function iframeOnload(e){isIframeLoaded=!0;var a=document.getElementById(\"noiframe\");a&&a.parentNode.removeChild(a)}var initialTime=(new Date).getTime();setTimeout(function(){isIframeLoaded||(new Date).getTime()-initialTime>maxTimeoutMs&&(document.body.innerHTML=\\'<div id=\"noiframe\">Please enable JS and disable any ad blocker</div>\\'+document.body.innerHTML)},maxTimeoutMs)}else function iframeOnload(){}</script><iframe src=\"https://geo.captcha-delivery.com/captcha/?initialCid=AHrlqAAAAAMA9o7ND-9g2u8ABa2peQ%3D%3D&amp;hash=77DC0FFBAA0B77570F6B414F8E5BDB&amp;cid=4fnoWSbNzg6LXvEwkzWyMpY8oZrrExuML2pS6WHXyCnESNCvseC2ta9iQ_NVP2TSDvTqxahmNVCCxGQeEAsU4lQYB1Wl-cDhK0SHLQOCFQ&amp;t=fe&amp;referer=https%3A%2F%2Fallegro.pl%2Flisting%3Fstring%3Dnintendo%2520switch%26bmatch%3Dbaseline-product-cl-eyesa2-engag-dict45-nodict-ele-1-0-0415&amp;s=29560\" width=\"100%\" height=\"100%\" style=\"height:100vh;\" frameborder=\"0\" border=\"0\" scrolling=\"yes\" onload=\"iframeOnload()\"></iframe>\\n</body></html>'"
      ]
     },
     "execution_count": 8,
     "metadata": {},
     "output_type": "execute_result"
    }
   ],
   "source": [
    "html_page"
   ]
  },
  {
   "cell_type": "code",
   "execution_count": 10,
   "id": "f852e2a4",
   "metadata": {},
   "outputs": [],
   "source": [
    "soup_bypassed = bs(html_page, \"html.parser\")\n",
    "response = etree.HTML(str(soup_bypassed))"
   ]
  },
  {
   "cell_type": "code",
   "execution_count": 11,
   "id": "a518b388",
   "metadata": {},
   "outputs": [
    {
     "data": {
      "text/plain": [
       "['mpof_ki mli2_0 _fee54_1BaJY',\n",
       " '_w7z6o _uj8z7 meqh_en mpof_z0 mqu1_16 _9c44d_2vTdY',\n",
       " '_w7z6o _uj8z7 meqh_en mpof_z0 mqu1_16 _9c44d_2vTdY',\n",
       " '_w7z6o _uj8z7 meqh_en mpof_z0 mqu1_16 _9c44d_2vTdY',\n",
       " '_w7z6o _uj8z7 meqh_en mpof_z0 mqu1_16 _9c44d_2vTdY',\n",
       " '_w7z6o _uj8z7 meqh_en mpof_z0 mqu1_16 _9c44d_2vTdY',\n",
       " '_w7z6o _uj8z7 meqh_en mpof_z0 mqu1_16 _9c44d_2vTdY',\n",
       " '_w7z6o _uj8z7 meqh_en mpof_z0 mqu1_16 _9c44d_2vTdY',\n",
       " '_w7z6o _uj8z7 meqh_en mpof_z0 mqu1_16 _9c44d_2vTdY',\n",
       " '_w7z6o _uj8z7 meqh_en mpof_z0 mqu1_16 _9c44d_2vTdY',\n",
       " '_w7z6o _uj8z7 meqh_en mpof_z0 mqu1_16 _9c44d_2vTdY',\n",
       " '_w7z6o _uj8z7 meqh_en mpof_z0 mqu1_16 _9c44d_2vTdY',\n",
       " '_w7z6o _uj8z7 meqh_en mpof_z0 mqu1_16 _9c44d_2vTdY',\n",
       " '_w7z6o _uj8z7 meqh_en mpof_z0 mqu1_16 _9c44d_2vTdY',\n",
       " '_w7z6o _uj8z7 meqh_en mpof_z0 mqu1_16 _9c44d_2vTdY',\n",
       " '_w7z6o _uj8z7 meqh_en mpof_z0 mqu1_16 _9c44d_2vTdY',\n",
       " '_w7z6o _uj8z7 meqh_en mpof_z0 mqu1_16 _9c44d_2vTdY',\n",
       " '_w7z6o _uj8z7 meqh_en mpof_z0 mqu1_16 _9c44d_2vTdY',\n",
       " '_w7z6o _uj8z7 meqh_en mpof_z0 mqu1_16 _9c44d_2vTdY',\n",
       " '_w7z6o _uj8z7 meqh_en mpof_z0 mqu1_16 _9c44d_2vTdY',\n",
       " '_w7z6o _uj8z7 meqh_en mpof_z0 mqu1_16 _9c44d_2vTdY',\n",
       " '_w7z6o _uj8z7 meqh_en mpof_z0 mqu1_16 _9c44d_2vTdY',\n",
       " '_w7z6o _uj8z7 meqh_en mpof_z0 mqu1_16 _9c44d_2vTdY',\n",
       " '_w7z6o _uj8z7 meqh_en mpof_z0 mqu1_16 _9c44d_2vTdY',\n",
       " '_w7z6o _uj8z7 meqh_en mpof_z0 mqu1_16 _9c44d_2vTdY',\n",
       " '_w7z6o _uj8z7 meqh_en mpof_z0 mqu1_16 _9c44d_2vTdY',\n",
       " '_w7z6o _uj8z7 meqh_en mpof_z0 mqu1_16 _9c44d_2vTdY',\n",
       " '_w7z6o _uj8z7 meqh_en mpof_z0 mqu1_16 _9c44d_2vTdY',\n",
       " '_w7z6o _uj8z7 meqh_en mpof_z0 mqu1_16 _9c44d_2vTdY',\n",
       " '_w7z6o _uj8z7 meqh_en mpof_z0 mqu1_16 _9c44d_2vTdY',\n",
       " '_w7z6o _uj8z7 meqh_en mpof_z0 mqu1_16 _9c44d_2vTdY',\n",
       " '_w7z6o _uj8z7 meqh_en mpof_z0 mqu1_16 _9c44d_2vTdY',\n",
       " '_w7z6o _uj8z7 meqh_en mpof_z0 mqu1_16 _9c44d_2vTdY',\n",
       " '_w7z6o _uj8z7 meqh_en mpof_z0 mqu1_16 _9c44d_2vTdY',\n",
       " '_w7z6o _uj8z7 meqh_en mpof_z0 mqu1_16 _9c44d_2vTdY',\n",
       " '_w7z6o _uj8z7 meqh_en mpof_z0 mqu1_16 _9c44d_2vTdY',\n",
       " '_w7z6o _uj8z7 meqh_en mpof_z0 mqu1_16 _9c44d_2vTdY',\n",
       " '_w7z6o _uj8z7 meqh_en mpof_z0 mqu1_16 _9c44d_2vTdY',\n",
       " '_w7z6o _uj8z7 meqh_en mpof_z0 mqu1_16 _9c44d_2vTdY',\n",
       " '_w7z6o _uj8z7 meqh_en mpof_z0 mqu1_16 _9c44d_2vTdY',\n",
       " '_w7z6o _uj8z7 meqh_en mpof_z0 mqu1_16 _9c44d_2vTdY',\n",
       " '_w7z6o _uj8z7 meqh_en mpof_z0 mqu1_16 _9c44d_2vTdY',\n",
       " '_w7z6o _uj8z7 meqh_en mpof_z0 mqu1_16 _9c44d_2vTdY',\n",
       " '_w7z6o _uj8z7 meqh_en mpof_z0 mqu1_16 _9c44d_2vTdY',\n",
       " '_w7z6o _uj8z7 meqh_en mpof_z0 mqu1_16 _9c44d_2vTdY',\n",
       " '_w7z6o _uj8z7 meqh_en mpof_z0 mqu1_16 _9c44d_2vTdY',\n",
       " '_w7z6o _uj8z7 meqh_en mpof_z0 mqu1_16 _9c44d_2vTdY',\n",
       " '_w7z6o _uj8z7 meqh_en mpof_z0 mqu1_16 _9c44d_2vTdY',\n",
       " '_w7z6o _uj8z7 meqh_en mpof_z0 mqu1_16 _9c44d_2vTdY',\n",
       " '_w7z6o _uj8z7 meqh_en mpof_z0 mqu1_16 _9c44d_2vTdY',\n",
       " '_w7z6o _uj8z7 meqh_en mpof_z0 mqu1_16 _9c44d_2vTdY',\n",
       " '_w7z6o _uj8z7 meqh_en mpof_z0 mqu1_16 _9c44d_2vTdY',\n",
       " '_w7z6o _uj8z7 meqh_en mpof_z0 mqu1_16 _9c44d_2vTdY',\n",
       " '_w7z6o _uj8z7 meqh_en mpof_z0 mqu1_16 _9c44d_2vTdY',\n",
       " '_w7z6o _uj8z7 meqh_en mpof_z0 mqu1_16 _9c44d_2vTdY',\n",
       " '_w7z6o _uj8z7 meqh_en mpof_z0 mqu1_16 _9c44d_2vTdY',\n",
       " '_w7z6o _uj8z7 meqh_en mpof_z0 mqu1_16 _9c44d_2vTdY',\n",
       " '_w7z6o _uj8z7 meqh_en mpof_z0 mqu1_16 _9c44d_2vTdY',\n",
       " '_w7z6o _uj8z7 meqh_en mpof_z0 mqu1_16 _9c44d_2vTdY',\n",
       " '_w7z6o _uj8z7 meqh_en mpof_z0 mqu1_16 _9c44d_2vTdY',\n",
       " '_w7z6o _uj8z7 meqh_en mpof_z0 mqu1_16 _9c44d_2vTdY',\n",
       " '_w7z6o _uj8z7 meqh_en mpof_z0 mqu1_16 _9c44d_2vTdY',\n",
       " '_w7z6o _uj8z7 meqh_en mpof_z0 mqu1_16 _9c44d_2vTdY',\n",
       " '_w7z6o _uj8z7 meqh_en mpof_z0 mqu1_16 _9c44d_2vTdY',\n",
       " '_w7z6o _uj8z7 meqh_en mpof_z0 mqu1_16 _9c44d_2vTdY',\n",
       " '_w7z6o _uj8z7 meqh_en mpof_z0 mqu1_16 _9c44d_2vTdY',\n",
       " '_w7z6o _uj8z7 meqh_en mpof_z0 mqu1_16 _9c44d_2vTdY',\n",
       " '_w7z6o _uj8z7 meqh_en mpof_z0 mqu1_16 _9c44d_2vTdY',\n",
       " '_w7z6o _uj8z7 meqh_en mpof_z0 mqu1_16 _9c44d_2vTdY',\n",
       " '_w7z6o _uj8z7 meqh_en mpof_z0 mqu1_16 _9c44d_2vTdY']"
      ]
     },
     "execution_count": 11,
     "metadata": {},
     "output_type": "execute_result"
    }
   ],
   "source": [
    "# test\n",
    "response.xpath('//div/h2/a/@class')"
   ]
  },
  {
   "cell_type": "markdown",
   "id": "593d1fcc",
   "metadata": {},
   "source": [
    "#### depreciated"
   ]
  },
  {
   "cell_type": "code",
   "execution_count": null,
   "id": "b0e5872f",
   "metadata": {
    "scrolled": true
   },
   "outputs": [],
   "source": [
    "from selenium import webdriver\n",
    "from selenium.webdriver.chrome.options import Options\n",
    "from selenium.webdriver.common.by import By\n",
    "from selenium.webdriver.support.ui import WebDriverWait\n",
    "from selenium.webdriver.support import expected_conditions as EC\n",
    "import pickle\n",
    "\n",
    "DRIVER_PATH = './chromedriver'\n",
    "\n",
    "options = Options()\n",
    "options.headless = False\n",
    "options.add_argument(\"--window-size=1280,720\")\n",
    "options.add_argument(\"--enable-javascript\")\n",
    "\n",
    "driver = webdriver.Chrome(options=options, executable_path=DRIVER_PATH)\n",
    "print('open chrome')\n",
    "driver.implicitly_wait(10)\n",
    "print('set implicit')\n",
    "driver.get(\"http://allegro.pl/listing?string=nintendo%20switch\")\n",
    "print('get url')\n",
    "\n",
    "\n",
    "element = driver.findElement(By.xpath(\"//*[text()='Contact Support']\"));\n",
    "e.click()\n",
    "\n",
    "print('success?')\n",
    "\n",
    "\n",
    "cookies = pickle.load(open(\"cookies.pkl\", \"rb\"))\n",
    "for cookie in cookies:\n",
    "    driver.add_cookie(cookie)\n",
    "print('added cookies')\n",
    "\n",
    "\n",
    "print('initiate refresh + source grab')\n",
    "WebDriverWait(driver, 10)\n",
    "driver.refresh()\n",
    "WebDriverWait(driver, 20)\n",
    "\n",
    "\n",
    "html_page = driver.page_source\n",
    "print('quitting')\n",
    "WebDriverWait(driver, 5)\n",
    "driver.quit()\n",
    "print('process over')\n",
    "\n"
   ]
  }
 ],
 "metadata": {
  "kernelspec": {
   "display_name": "Python 3",
   "language": "python",
   "name": "python3"
  },
  "language_info": {
   "codemirror_mode": {
    "name": "ipython",
    "version": 3
   },
   "file_extension": ".py",
   "mimetype": "text/x-python",
   "name": "python",
   "nbconvert_exporter": "python",
   "pygments_lexer": "ipython3",
   "version": "3.9.4"
  }
 },
 "nbformat": 4,
 "nbformat_minor": 5
}
