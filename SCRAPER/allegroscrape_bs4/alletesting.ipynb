{
 "cells": [
  {
   "cell_type": "code",
   "execution_count": 1,
   "id": "e1a06f4d",
   "metadata": {},
   "outputs": [],
   "source": [
    "import requests\n",
    "from bs4 import BeautifulSoup as bs\n",
    "import pandas as pd\n",
    "from lxml import etree"
   ]
  },
  {
   "cell_type": "markdown",
   "id": "22c0602a",
   "metadata": {},
   "source": [
    "### response to etree for xpath compatible mode"
   ]
  },
  {
   "cell_type": "code",
   "execution_count": 2,
   "id": "7a92fde6",
   "metadata": {},
   "outputs": [],
   "source": [
    "URL = 'http://allegro.pl/listing?string=nintendo%20switch'\n",
    "\n",
    "HEADERS = ({'User-Agent':\n",
    "            'Mozilla/5.0 (X11; Linux x86_64) AppleWebKit/537.36 \\\n",
    "            (KHTML, like Gecko) Chrome/44.0.2403.157 Safari/537.36',\\\n",
    "            'Accept-Language': 'en-US, en;q=0.5'})"
   ]
  },
  {
   "cell_type": "code",
   "execution_count": 3,
   "id": "a2453b22",
   "metadata": {},
   "outputs": [],
   "source": [
    "r = requests.get(URL, headers=HEADERS)\n",
    "soup = bs(r.content, \"html.parser\")\n",
    "response = etree.HTML(str(soup))"
   ]
  },
  {
   "cell_type": "code",
   "execution_count": 15,
   "id": "955d6adb",
   "metadata": {
    "scrolled": true
   },
   "outputs": [
    {
     "data": {
      "text/plain": [
       "<html><head><title>allegro.pl</title><style>#cmsg{animation: A 1.5s;}@keyframes A{0%{opacity:0;}99%{opacity:0;}100%{opacity:1;}}</style></head><body style=\"margin:0\"><p id=\"cmsg\">Please enable JS and disable any ad blocker</p><script>var dd={'cid':'AHrlqAAAAAMAuPyO10D4rFAABa2peQ==','hsh':'77DC0FFBAA0B77570F6B414F8E5BDB','t':'fe','s':29560,'host':'geo.captcha-delivery.com'}</script><script src=\"https://ct.captcha-delivery.com/c.js\"></script></body></html>"
      ]
     },
     "execution_count": 15,
     "metadata": {},
     "output_type": "execute_result"
    }
   ],
   "source": [
    "soup"
   ]
  },
  {
   "cell_type": "code",
   "execution_count": null,
   "id": "7db21b54",
   "metadata": {},
   "outputs": [],
   "source": [
    "headers={'User-agent': 'Mozilla/5.0 (Windows NT 10.0; Win64; x64) AppleWebKit/537.36 (KHTML, like Gecko) Chrome/89.0.4389.114 Safari/537.36 OPR/75.0.3969.171'}"
   ]
  },
  {
   "cell_type": "markdown",
   "id": "25f5bc3f",
   "metadata": {},
   "source": [
    "##### find last page"
   ]
  },
  {
   "cell_type": "code",
   "execution_count": 18,
   "id": "f428108b",
   "metadata": {},
   "outputs": [],
   "source": [
    "r=requests.get(URL, headers={'User-agent': 'Mozilla/5.0 (Windows NT 10.0; Win64; x64) AppleWebKit/537.36 (KHTML, like Gecko) Chrome/89.0.4389.114 Safari/537.36 OPR/75.0.3969.171'})\n",
    "c=r.content\n",
    "soup=bs(c, 'lxml')"
   ]
  },
  {
   "cell_type": "code",
   "execution_count": 19,
   "id": "76b934ae",
   "metadata": {},
   "outputs": [
    {
     "data": {
      "text/plain": [
       "<html><head><title>allegro.pl</title><style>#cmsg{animation: A 1.5s;}@keyframes A{0%{opacity:0;}99%{opacity:0;}100%{opacity:1;}}</style></head><body style=\"margin:0\"><p id=\"cmsg\">Please enable JS and disable any ad blocker</p><script>var dd={'cid':'AHrlqAAAAAMA6oTeOchz7WMABa2peQ==','hsh':'77DC0FFBAA0B77570F6B414F8E5BDB','t':'fe','s':29560,'host':'geo.captcha-delivery.com'}</script><script src=\"https://ct.captcha-delivery.com/c.js\"></script></body></html>"
      ]
     },
     "execution_count": 19,
     "metadata": {},
     "output_type": "execute_result"
    }
   ],
   "source": [
    "soup"
   ]
  },
  {
   "cell_type": "code",
   "execution_count": 5,
   "id": "af876283",
   "metadata": {},
   "outputs": [
    {
     "ename": "TypeError",
     "evalue": "'NoneType' object is not subscriptable",
     "output_type": "error",
     "traceback": [
      "\u001b[1;31m---------------------------------------------------------------------------\u001b[0m",
      "\u001b[1;31mTypeError\u001b[0m                                 Traceback (most recent call last)",
      "\u001b[1;32m<ipython-input-5-54573f3ef07b>\u001b[0m in \u001b[0;36m<module>\u001b[1;34m\u001b[0m\n\u001b[0;32m      2\u001b[0m \u001b[1;33m\u001b[0m\u001b[0m\n\u001b[0;32m      3\u001b[0m \u001b[0melement\u001b[0m \u001b[1;33m=\u001b[0m \u001b[0msoup\u001b[0m\u001b[1;33m.\u001b[0m\u001b[0mfind\u001b[0m\u001b[1;33m(\u001b[0m\u001b[0mattr\u001b[0m\u001b[1;33m=\u001b[0m\u001b[1;33m{\u001b[0m\u001b[1;34m\"aria-label\"\u001b[0m\u001b[1;33m:\u001b[0m\u001b[0mre\u001b[0m\u001b[1;33m.\u001b[0m\u001b[0mcompile\u001b[0m\u001b[1;33m(\u001b[0m\u001b[1;34m'wpisz stron'\u001b[0m\u001b[1;33m)\u001b[0m\u001b[1;33m}\u001b[0m\u001b[1;33m)\u001b[0m\u001b[1;33m\u001b[0m\u001b[1;33m\u001b[0m\u001b[0m\n\u001b[1;32m----> 4\u001b[1;33m \u001b[0mmax_page\u001b[0m \u001b[1;33m=\u001b[0m \u001b[0melement\u001b[0m\u001b[1;33m[\u001b[0m\u001b[1;34m'data-maxpage'\u001b[0m\u001b[1;33m]\u001b[0m\u001b[1;33m\u001b[0m\u001b[1;33m\u001b[0m\u001b[0m\n\u001b[0m\u001b[0;32m      5\u001b[0m \u001b[0mprint\u001b[0m\u001b[1;33m(\u001b[0m\u001b[0mmax_page\u001b[0m\u001b[1;33m)\u001b[0m\u001b[1;33m\u001b[0m\u001b[1;33m\u001b[0m\u001b[0m\n",
      "\u001b[1;31mTypeError\u001b[0m: 'NoneType' object is not subscriptable"
     ]
    }
   ],
   "source": [
    "import re\n",
    "\n",
    "element = soup.find(attrs={\"aria-label\":re.compile('wpisz stron')})\n",
    "max_page = element['data-maxpage']\n",
    "print(max_page)"
   ]
  },
  {
   "cell_type": "code",
   "execution_count": 9,
   "id": "81504258",
   "metadata": {},
   "outputs": [],
   "source": [
    "import re"
   ]
  },
  {
   "cell_type": "code",
   "execution_count": 10,
   "id": "13a00892",
   "metadata": {},
   "outputs": [],
   "source": [
    "input_tag = soup.find(attrs={\"aria-label\":re.compile('wpisz stron')})"
   ]
  },
  {
   "cell_type": "code",
   "execution_count": 11,
   "id": "ad600081",
   "metadata": {},
   "outputs": [
    {
     "name": "stdout",
     "output_type": "stream",
     "text": [
      "None\n"
     ]
    }
   ],
   "source": [
    "print(input_tag)"
   ]
  },
  {
   "cell_type": "code",
   "execution_count": 12,
   "id": "3b733400",
   "metadata": {},
   "outputs": [
    {
     "name": "stdout",
     "output_type": "stream",
     "text": [
      "None\n"
     ]
    }
   ],
   "source": [
    "print(soup.find('wpisz stronę do której chcesz przejść'))"
   ]
  },
  {
   "cell_type": "code",
   "execution_count": 13,
   "id": "ad2c3f79",
   "metadata": {},
   "outputs": [
    {
     "name": "stdout",
     "output_type": "stream",
     "text": [
      "None\n"
     ]
    }
   ],
   "source": [
    "print(input_tag)"
   ]
  },
  {
   "cell_type": "code",
   "execution_count": 73,
   "id": "52395b3f",
   "metadata": {},
   "outputs": [
    {
     "ename": "TypeError",
     "evalue": "'NoneType' object is not subscriptable",
     "output_type": "error",
     "traceback": [
      "\u001b[1;31m---------------------------------------------------------------------------\u001b[0m",
      "\u001b[1;31mTypeError\u001b[0m                                 Traceback (most recent call last)",
      "\u001b[1;32m<ipython-input-73-30f0e7632f52>\u001b[0m in \u001b[0;36m<module>\u001b[1;34m\u001b[0m\n\u001b[1;32m----> 1\u001b[1;33m \u001b[0mlol\u001b[0m \u001b[1;33m=\u001b[0m \u001b[0minput_tag\u001b[0m\u001b[1;33m[\u001b[0m\u001b[1;34m'value'\u001b[0m\u001b[1;33m]\u001b[0m\u001b[1;33m\u001b[0m\u001b[1;33m\u001b[0m\u001b[0m\n\u001b[0m",
      "\u001b[1;31mTypeError\u001b[0m: 'NoneType' object is not subscriptable"
     ]
    }
   ],
   "source": [
    "lol = input_tag['value']"
   ]
  },
  {
   "cell_type": "code",
   "execution_count": 71,
   "id": "be734b0c",
   "metadata": {},
   "outputs": [
    {
     "data": {
      "text/plain": [
       "'1'"
      ]
     },
     "execution_count": 71,
     "metadata": {},
     "output_type": "execute_result"
    }
   ],
   "source": [
    "lol"
   ]
  },
  {
   "cell_type": "code",
   "execution_count": 65,
   "id": "192eddfa",
   "metadata": {},
   "outputs": [
    {
     "name": "stdout",
     "output_type": "stream",
     "text": [
      "<input aria-label=\"wpisz stronę do której chcesz przejść\" class=\"_14uqc _1r8rh _u5o1q _1t9p2 _cc6ig _3db39_3ISNX\" data-maxpage=\"100\" data-page=\"1\" data-role=\"page-number-input\" type=\"number\" value=\"1\"/>\n"
     ]
    }
   ],
   "source": [
    "print(input_tag)"
   ]
  },
  {
   "cell_type": "code",
   "execution_count": 34,
   "id": "31450ab3",
   "metadata": {},
   "outputs": [
    {
     "data": {
      "text/plain": [
       "<input aria-label=\"wpisz stronę do której chcesz przejść\" class=\"_14uqc _1r8rh _u5o1q _1t9p2 _cc6ig _3db39_3ISNX\" data-maxpage=\"100\" data-page=\"1\" data-role=\"page-number-input\" type=\"number\" value=\"1\"/>"
      ]
     },
     "execution_count": 34,
     "metadata": {},
     "output_type": "execute_result"
    }
   ],
   "source": [
    "soup.find_all('input')[1]"
   ]
  },
  {
   "cell_type": "code",
   "execution_count": 51,
   "id": "42206712",
   "metadata": {},
   "outputs": [
    {
     "data": {
      "text/plain": [
       "<input aria-label=\"wpisz stronę do której chcesz przejść\" class=\"_14uqc _1r8rh _u5o1q _1t9p2 _cc6ig _3db39_3ISNX\" data-maxpage=\"100\" data-page=\"1\" data-role=\"page-number-input\" type=\"number\" value=\"1\"/>"
      ]
     },
     "execution_count": 51,
     "metadata": {},
     "output_type": "execute_result"
    }
   ],
   "source": [
    "soup.select('input')[1]"
   ]
  },
  {
   "cell_type": "code",
   "execution_count": 43,
   "id": "f3ed97f6",
   "metadata": {
    "scrolled": true
   },
   "outputs": [
    {
     "data": {
      "text/plain": [
       "[<Element input at 0x1dbb03c8c40>,\n",
       " <Element input at 0x1dbb03cafc0>,\n",
       " <Element input at 0x1dbb03caec0>,\n",
       " <Element input at 0x1dbb03cae80>,\n",
       " <Element input at 0x1dbb03cab80>,\n",
       " <Element input at 0x1dbb03caf40>,\n",
       " <Element input at 0x1dbb03cf040>,\n",
       " <Element input at 0x1dbb03cf080>,\n",
       " <Element input at 0x1dbafb5eac0>,\n",
       " <Element input at 0x1dbb03d4e40>,\n",
       " <Element input at 0x1dbb03d1280>,\n",
       " <Element input at 0x1dbb03d1140>,\n",
       " <Element input at 0x1dbb03d1700>,\n",
       " <Element input at 0x1dbb03d1480>,\n",
       " <Element input at 0x1dbb03d1300>,\n",
       " <Element input at 0x1dbafaff600>,\n",
       " <Element input at 0x1dbafaffd40>,\n",
       " <Element input at 0x1dbafaff700>,\n",
       " <Element input at 0x1dbafaff640>,\n",
       " <Element input at 0x1dbb03cf700>,\n",
       " <Element input at 0x1dbb03cff80>,\n",
       " <Element input at 0x1dbb03cff00>,\n",
       " <Element input at 0x1dbb03cfec0>,\n",
       " <Element input at 0x1dbb03cf0c0>,\n",
       " <Element input at 0x1dbb03caf00>,\n",
       " <Element input at 0x1dbb03cf100>,\n",
       " <Element input at 0x1dbb03cfb00>,\n",
       " <Element input at 0x1dbb03cfa00>,\n",
       " <Element input at 0x1dbb03cf680>,\n",
       " <Element input at 0x1dbb03cfcc0>,\n",
       " <Element input at 0x1dbb03cffc0>,\n",
       " <Element input at 0x1dbb03cfe00>,\n",
       " <Element input at 0x1dbb03cfdc0>,\n",
       " <Element input at 0x1dbb03cff40>,\n",
       " <Element input at 0x1dbb03cfc00>,\n",
       " <Element input at 0x1dbb03cfe80>,\n",
       " <Element input at 0x1dbb03cfa40>,\n",
       " <Element input at 0x1dbb03cf140>,\n",
       " <Element input at 0x1dbb03cf180>,\n",
       " <Element input at 0x1dbb03cfb80>,\n",
       " <Element input at 0x1dbb03cf1c0>,\n",
       " <Element input at 0x1dbb03cfac0>,\n",
       " <Element input at 0x1dbb03cfe40>,\n",
       " <Element input at 0x1dbb03cf8c0>,\n",
       " <Element input at 0x1dbb03cf980>,\n",
       " <Element input at 0x1dbb03cf9c0>,\n",
       " <Element input at 0x1dbb03cf840>,\n",
       " <Element input at 0x1dbb03cfd40>,\n",
       " <Element input at 0x1dbb03cfc80>]"
      ]
     },
     "execution_count": 43,
     "metadata": {},
     "output_type": "execute_result"
    }
   ],
   "source": [
    "response.xpath('//input')"
   ]
  },
  {
   "cell_type": "markdown",
   "id": "86682b54",
   "metadata": {},
   "source": [
    "# reverse lookup by xpath"
   ]
  },
  {
   "cell_type": "code",
   "execution_count": 14,
   "id": "c0b18ee9",
   "metadata": {
    "scrolled": true
   },
   "outputs": [
    {
     "name": "stdout",
     "output_type": "stream",
     "text": [
      "[]\n"
     ]
    },
    {
     "ename": "ValueError",
     "evalue": "min() arg is an empty sequence",
     "output_type": "error",
     "traceback": [
      "\u001b[1;31m---------------------------------------------------------------------------\u001b[0m",
      "\u001b[1;31mValueError\u001b[0m                                Traceback (most recent call last)",
      "\u001b[1;32m<ipython-input-14-27eba3655191>\u001b[0m in \u001b[0;36m<module>\u001b[1;34m\u001b[0m\n\u001b[0;32m      1\u001b[0m \u001b[0mitem_class_list\u001b[0m \u001b[1;33m=\u001b[0m \u001b[0mresponse\u001b[0m\u001b[1;33m.\u001b[0m\u001b[0mxpath\u001b[0m\u001b[1;33m(\u001b[0m\u001b[1;34m'//div/h2/a/@class'\u001b[0m\u001b[1;33m)\u001b[0m\u001b[1;33m\u001b[0m\u001b[1;33m\u001b[0m\u001b[0m\n\u001b[0;32m      2\u001b[0m \u001b[0mprint\u001b[0m\u001b[1;33m(\u001b[0m\u001b[0mitem_class_list\u001b[0m\u001b[1;33m)\u001b[0m\u001b[1;33m\u001b[0m\u001b[1;33m\u001b[0m\u001b[0m\n\u001b[1;32m----> 3\u001b[1;33m \u001b[0mitem_class_name\u001b[0m \u001b[1;33m=\u001b[0m \u001b[0mmin\u001b[0m\u001b[1;33m(\u001b[0m\u001b[0mitem_class_list\u001b[0m\u001b[1;33m[\u001b[0m\u001b[1;36m1\u001b[0m\u001b[1;33m:\u001b[0m\u001b[1;33m]\u001b[0m\u001b[1;33m,\u001b[0m \u001b[0mkey\u001b[0m\u001b[1;33m=\u001b[0m\u001b[1;32mlambda\u001b[0m \u001b[0mword\u001b[0m\u001b[1;33m:\u001b[0m \u001b[0mlen\u001b[0m\u001b[1;33m(\u001b[0m\u001b[0mword\u001b[0m\u001b[1;33m)\u001b[0m\u001b[1;33m)\u001b[0m\u001b[1;33m\u001b[0m\u001b[1;33m\u001b[0m\u001b[0m\n\u001b[0m\u001b[0;32m      4\u001b[0m \u001b[0mprint\u001b[0m\u001b[1;33m(\u001b[0m\u001b[1;34m'\\n'\u001b[0m\u001b[1;33m+\u001b[0m\u001b[0mitem_class_name\u001b[0m\u001b[1;33m)\u001b[0m\u001b[1;33m\u001b[0m\u001b[1;33m\u001b[0m\u001b[0m\n",
      "\u001b[1;31mValueError\u001b[0m: min() arg is an empty sequence"
     ]
    }
   ],
   "source": [
    "item_class_list = response.xpath('//div/h2/a/@class')\n",
    "print(item_class_list)\n",
    "item_class_name = min(item_class_list[1:], key=lambda word: len(word))\n",
    "print('\\n'+item_class_name)"
   ]
  },
  {
   "cell_type": "code",
   "execution_count": 43,
   "id": "3e855003",
   "metadata": {
    "scrolled": true
   },
   "outputs": [
    {
     "name": "stdout",
     "output_type": "stream",
     "text": [
      "['_1svub _lf05o', 'mpof_5r mpof_vs_s _9c44d_16iLm', '_1svub _lf05o', 'mpof_5r mpof_vs_s _9c44d_16iLm', '_1svub _lf05o', 'mpof_5r mpof_vs_s _9c44d_16iLm', '_1svub _lf05o', 'mpof_5r mpof_vs_s _9c44d_16iLm', '_1svub _lf05o', 'mpof_5r mpof_vs_s _9c44d_16iLm', '_1svub _lf05o', 'mpof_5r mpof_vs_s _9c44d_16iLm', '_1svub _lf05o', 'mpof_5r mpof_vs_s _9c44d_16iLm', '_1svub _lf05o', 'mpof_5r mpof_vs_s _9c44d_16iLm', '_1svub _lf05o', '_1svub _lf05o', 'mpof_5r mpof_vs_s _9c44d_16iLm', '_1svub _lf05o', '_1svub _lf05o', '_1svub _lf05o', 'mpof_5r mpof_vs_s _9c44d_16iLm', '_1svub _lf05o', 'mpof_5r mpof_vs_s _9c44d_16iLm', '_1svub _lf05o', '_1svub _lf05o', 'mpof_5r mpof_vs_s _9c44d_16iLm', '_1svub _lf05o', '_1svub _lf05o', 'mpof_5r mpof_vs_s _9c44d_16iLm', '_1svub _lf05o', 'mpof_5r mpof_vs_s _9c44d_16iLm', '_1svub _lf05o', '_1svub _lf05o', '_1svub _lf05o', '_1svub _lf05o', 'mpof_5r mpof_vs_s _9c44d_16iLm', '_1svub _lf05o', 'mpof_5r mpof_vs_s _9c44d_16iLm', '_1svub _lf05o', '_1svub _lf05o', '_1svub _lf05o', 'mpof_5r mpof_vs_s _9c44d_16iLm', '_1svub _lf05o', 'mpof_5r mpof_vs_s _9c44d_16iLm', '_1svub _lf05o', '_1svub _lf05o', '_1svub _lf05o', '_1svub _lf05o', '_1svub _lf05o', '_1svub _lf05o', '_1svub _lf05o', 'mpof_5r mpof_vs_s _9c44d_16iLm', '_1svub _lf05o', 'mpof_5r mpof_vs_s _9c44d_16iLm', '_1svub _lf05o', '_1svub _lf05o', '_1svub _lf05o', '_1svub _lf05o', '_1svub _lf05o', 'mpof_5r mpof_vs_s _9c44d_16iLm', '_1svub _lf05o', '_1svub _lf05o', 'mpof_5r mpof_vs_s _9c44d_16iLm', '_1svub _lf05o', '_1svub _lf05o', '_1svub _lf05o', '_1svub _lf05o', 'mpof_5r mpof_vs_s _9c44d_16iLm', '_1svub _lf05o', '_1svub _lf05o', 'mpof_5r mpof_vs_s _9c44d_16iLm', '_1svub _lf05o', 'mpof_5r mpof_vs_s _9c44d_16iLm', '_1svub _lf05o', '_1svub _lf05o', 'mpof_5r mpof_vs_s _9c44d_16iLm', '_1svub _lf05o', '_1svub _lf05o', '_1svub _lf05o', '_1svub _lf05o', 'mpof_5r mpof_vs_s _9c44d_16iLm', '_1svub _lf05o', '_1svub _lf05o', 'mpof_5r mpof_vs_s _9c44d_16iLm', '_1svub _lf05o', 'mpof_5r mpof_vs_s _9c44d_16iLm', '_1svub _lf05o', '_1svub _lf05o', '_1svub _lf05o', '_1svub _lf05o', '_1svub _lf05o', 'mpof_5r mpof_vs_s _9c44d_16iLm', '_1svub _lf05o', '_1svub _lf05o', '_1svub _lf05o', '_1svub _lf05o', '_1svub _lf05o']\n",
      "\n",
      "_1svub _lf05o\n"
     ]
    }
   ],
   "source": [
    "price_class_list = response.xpath(\"//div/span[contains(., ',')]/@class\")\n",
    "print(price_class_list)\n",
    "price_class_name = min(price_class_list[1:], key=lambda word: len(word))\n",
    "print('\\n'+price_class_name)"
   ]
  },
  {
   "cell_type": "markdown",
   "id": "1c6854f6",
   "metadata": {},
   "source": [
    "### didnt work"
   ]
  },
  {
   "cell_type": "code",
   "execution_count": 23,
   "id": "1a9c49f7",
   "metadata": {},
   "outputs": [],
   "source": [
    "# htmlparser = etree.HTMLParser()\n",
    "# tree = etree.parse(r, htmlparser)\n",
    "# tree.xpath('//div/h2/a/@class')"
   ]
  },
  {
   "cell_type": "code",
   "execution_count": 21,
   "id": "1e766a1f",
   "metadata": {},
   "outputs": [
    {
     "data": {
      "text/plain": [
       "[]"
      ]
     },
     "execution_count": 21,
     "metadata": {},
     "output_type": "execute_result"
    }
   ],
   "source": [
    "from lxml import html\n",
    "import requests\n",
    "\n",
    "page = requests.get('http://allegro.pl/listing?string=nintendo%20switch')\n",
    "tree = html.fromstring(page.content)\n",
    "#This will create a list of buyers:\n",
    "tree.xpath('//div/h2/a/@class')\n"
   ]
  },
  {
   "cell_type": "code",
   "execution_count": 44,
   "id": "d9e7f128",
   "metadata": {},
   "outputs": [],
   "source": [
    "# scrapy didnt work too"
   ]
  },
  {
   "cell_type": "markdown",
   "id": "f3efd513",
   "metadata": {},
   "source": [
    "# finding stuff in allegro"
   ]
  },
  {
   "cell_type": "code",
   "execution_count": 94,
   "id": "a19e8e40",
   "metadata": {
    "scrolled": true
   },
   "outputs": [
    {
     "name": "stdout",
     "output_type": "stream",
     "text": [
      "_w7z6o _uj8z7 meqh_en mpof_z0 mqu1_16 _9c44d_2vTdY\n",
      "_1svub _lf05o\n"
     ]
    }
   ],
   "source": [
    "item_class_list = response.xpath('//div/h2/a/@class')\n",
    "item_class_name = min(item_class_list[1:], key=lambda word: len(word))\n",
    "print(item_class_name)\n",
    "price_class_list = response.xpath(\"//div/span[contains(., ',')]/@class\")\n",
    "price_class_name = min(price_class_list[1:], key=lambda word: len(word))\n",
    "print(price_class_name)"
   ]
  },
  {
   "cell_type": "code",
   "execution_count": 114,
   "id": "39be54d9",
   "metadata": {
    "scrolled": true
   },
   "outputs": [
    {
     "data": {
      "text/plain": [
       "[<span aria-label=\"1 608,12 zł aktualna cena\" class=\"_1svub _lf05o\" tabindex=\"0\">1 608,<span class=\"_qnmdr\">12 zł</span></span>,\n",
       " <span aria-label=\"1 608,12 zł aktualna cena\" class=\"_1svub _lf05o\" tabindex=\"0\">1 608,<span class=\"_qnmdr\">12 zł</span></span>,\n",
       " <span aria-label=\"2 599,00 zł aktualna cena\" class=\"_1svub _lf05o\" tabindex=\"0\">2 599,<span class=\"_qnmdr\">00 zł</span></span>,\n",
       " <span aria-label=\"829,00 zł aktualna cena\" class=\"_1svub _lf05o\" tabindex=\"0\">829,<span class=\"_qnmdr\">00 zł</span></span>,\n",
       " <span aria-label=\"819,90 zł aktualna cena\" class=\"_1svub _lf05o\" tabindex=\"0\">819,<span class=\"_qnmdr\">90 zł</span></span>,\n",
       " <span aria-label=\"1 208,99 zł aktualna cena\" class=\"_1svub _lf05o\" tabindex=\"0\">1 208,<span class=\"_qnmdr\">99 zł</span></span>,\n",
       " <span aria-label=\"995,29 zł aktualna cena\" class=\"_1svub _lf05o\" tabindex=\"0\">995,<span class=\"_qnmdr\">29 zł</span></span>,\n",
       " <span aria-label=\"929,00 zł aktualna cena\" class=\"_1svub _lf05o\" tabindex=\"0\">929,<span class=\"_qnmdr\">00 zł</span></span>,\n",
       " <span aria-label=\"40,00 zł aktualna cena\" class=\"_1svub _lf05o\" tabindex=\"0\">40,<span class=\"_qnmdr\">00 zł</span></span>,\n",
       " <span aria-label=\"169,00 zł aktualna cena\" class=\"_1svub _lf05o\" tabindex=\"0\">169,<span class=\"_qnmdr\">00 zł</span></span>,\n",
       " <span aria-label=\"42,99 zł aktualna cena\" class=\"_1svub _lf05o\" tabindex=\"0\">42,<span class=\"_qnmdr\">99 zł</span></span>,\n",
       " <span aria-label=\"49,00 zł aktualna cena\" class=\"_1svub _lf05o\" tabindex=\"0\">49,<span class=\"_qnmdr\">00 zł</span></span>,\n",
       " <span aria-label=\"1 047,99 zł aktualna cena\" class=\"_1svub _lf05o\" tabindex=\"0\">1 047,<span class=\"_qnmdr\">99 zł</span></span>,\n",
       " <span aria-label=\"239,00 zł aktualna cena\" class=\"_1svub _lf05o\" tabindex=\"0\">239,<span class=\"_qnmdr\">00 zł</span></span>,\n",
       " <span aria-label=\"45,00 zł aktualna cena\" class=\"_1svub _lf05o\" tabindex=\"0\">45,<span class=\"_qnmdr\">00 zł</span></span>,\n",
       " <span aria-label=\"44,90 zł aktualna cena\" class=\"_1svub _lf05o\" tabindex=\"0\">44,<span class=\"_qnmdr\">90 zł</span></span>,\n",
       " <span aria-label=\"128,39 zł aktualna cena\" class=\"_1svub _lf05o\" tabindex=\"0\">128,<span class=\"_qnmdr\">39 zł</span></span>,\n",
       " <span aria-label=\"159,00 zł aktualna cena\" class=\"_1svub _lf05o\" tabindex=\"0\">159,<span class=\"_qnmdr\">00 zł</span></span>,\n",
       " <span aria-label=\"40,00 zł aktualna cena\" class=\"_1svub _lf05o\" tabindex=\"0\">40,<span class=\"_qnmdr\">00 zł</span></span>,\n",
       " <span aria-label=\"153,90 zł aktualna cena\" class=\"_1svub _lf05o\" tabindex=\"0\">153,<span class=\"_qnmdr\">90 zł</span></span>,\n",
       " <span aria-label=\"40,00 zł aktualna cena\" class=\"_1svub _lf05o\" tabindex=\"0\">40,<span class=\"_qnmdr\">00 zł</span></span>,\n",
       " <span aria-label=\"99,00 zł aktualna cena\" class=\"_1svub _lf05o\" tabindex=\"0\">99,<span class=\"_qnmdr\">00 zł</span></span>,\n",
       " <span aria-label=\"99,00 zł aktualna cena\" class=\"_1svub _lf05o\" tabindex=\"0\">99,<span class=\"_qnmdr\">00 zł</span></span>,\n",
       " <span aria-label=\"979,00 zł aktualna cena\" class=\"_1svub _lf05o\" tabindex=\"0\">979,<span class=\"_qnmdr\">00 zł</span></span>,\n",
       " <span aria-label=\"59,00 zł aktualna cena\" class=\"_1svub _lf05o\" tabindex=\"0\">59,<span class=\"_qnmdr\">00 zł</span></span>,\n",
       " <span aria-label=\"34,99 zł aktualna cena\" class=\"_1svub _lf05o\" tabindex=\"0\">34,<span class=\"_qnmdr\">99 zł</span></span>,\n",
       " <span aria-label=\"79,00 zł aktualna cena\" class=\"_1svub _lf05o\" tabindex=\"0\">79,<span class=\"_qnmdr\">00 zł</span></span>,\n",
       " <span aria-label=\"124,99 zł aktualna cena\" class=\"_1svub _lf05o\" tabindex=\"0\">124,<span class=\"_qnmdr\">99 zł</span></span>,\n",
       " <span aria-label=\"99,00 zł aktualna cena\" class=\"_1svub _lf05o\" tabindex=\"0\">99,<span class=\"_qnmdr\">00 zł</span></span>,\n",
       " <span aria-label=\"34,99 zł aktualna cena\" class=\"_1svub _lf05o\" tabindex=\"0\">34,<span class=\"_qnmdr\">99 zł</span></span>,\n",
       " <span aria-label=\"40,00 zł aktualna cena\" class=\"_1svub _lf05o\" tabindex=\"0\">40,<span class=\"_qnmdr\">00 zł</span></span>,\n",
       " <span aria-label=\"219,00 zł aktualna cena\" class=\"_1svub _lf05o\" tabindex=\"0\">219,<span class=\"_qnmdr\">00 zł</span></span>,\n",
       " <span aria-label=\"159,00 zł aktualna cena\" class=\"_1svub _lf05o\" tabindex=\"0\">159,<span class=\"_qnmdr\">00 zł</span></span>,\n",
       " <span aria-label=\"149,00 zł aktualna cena\" class=\"_1svub _lf05o\" tabindex=\"0\">149,<span class=\"_qnmdr\">00 zł</span></span>,\n",
       " <span aria-label=\"1 011,99 zł aktualna cena\" class=\"_1svub _lf05o\" tabindex=\"0\">1 011,<span class=\"_qnmdr\">99 zł</span></span>,\n",
       " <span aria-label=\"68,00 zł aktualna cena\" class=\"_1svub _lf05o\" tabindex=\"0\">68,<span class=\"_qnmdr\">00 zł</span></span>,\n",
       " <span aria-label=\"107,89 zł aktualna cena\" class=\"_1svub _lf05o\" tabindex=\"0\">107,<span class=\"_qnmdr\">89 zł</span></span>,\n",
       " <span aria-label=\"99,00 zł aktualna cena\" class=\"_1svub _lf05o\" tabindex=\"0\">99,<span class=\"_qnmdr\">00 zł</span></span>,\n",
       " <span aria-label=\"79,00 zł aktualna cena\" class=\"_1svub _lf05o\" tabindex=\"0\">79,<span class=\"_qnmdr\">00 zł</span></span>,\n",
       " <span aria-label=\"26,80 zł aktualna cena\" class=\"_1svub _lf05o\" tabindex=\"0\">26,<span class=\"_qnmdr\">80 zł</span></span>,\n",
       " <span aria-label=\"28,99 zł aktualna cena\" class=\"_1svub _lf05o\" tabindex=\"0\">28,<span class=\"_qnmdr\">99 zł</span></span>,\n",
       " <span aria-label=\"59,90 zł aktualna cena\" class=\"_1svub _lf05o\" tabindex=\"0\">59,<span class=\"_qnmdr\">90 zł</span></span>,\n",
       " <span aria-label=\"22,50 zł aktualna cena\" class=\"_1svub _lf05o\" tabindex=\"0\">22,<span class=\"_qnmdr\">50 zł</span></span>,\n",
       " <span aria-label=\"29,99 zł aktualna cena\" class=\"_1svub _lf05o\" tabindex=\"0\">29,<span class=\"_qnmdr\">99 zł</span></span>,\n",
       " <span aria-label=\"139,00 zł aktualna cena\" class=\"_1svub _lf05o\" tabindex=\"0\">139,<span class=\"_qnmdr\">00 zł</span></span>,\n",
       " <span aria-label=\"219,00 zł aktualna cena\" class=\"_1svub _lf05o\" tabindex=\"0\">219,<span class=\"_qnmdr\">00 zł</span></span>,\n",
       " <span aria-label=\"179,00 zł aktualna cena\" class=\"_1svub _lf05o\" tabindex=\"0\">179,<span class=\"_qnmdr\">00 zł</span></span>,\n",
       " <span aria-label=\"80,00 zł aktualna cena\" class=\"_1svub _lf05o\" tabindex=\"0\">80,<span class=\"_qnmdr\">00 zł</span></span>,\n",
       " <span aria-label=\"219,00 zł aktualna cena\" class=\"_1svub _lf05o\" tabindex=\"0\">219,<span class=\"_qnmdr\">00 zł</span></span>,\n",
       " <span aria-label=\"38,90 zł aktualna cena\" class=\"_1svub _lf05o\" tabindex=\"0\">38,<span class=\"_qnmdr\">90 zł</span></span>,\n",
       " <span aria-label=\"139,00 zł aktualna cena\" class=\"_1svub _lf05o\" tabindex=\"0\">139,<span class=\"_qnmdr\">00 zł</span></span>,\n",
       " <span aria-label=\"149,00 zł aktualna cena\" class=\"_1svub _lf05o\" tabindex=\"0\">149,<span class=\"_qnmdr\">00 zł</span></span>,\n",
       " <span aria-label=\"69,00 zł aktualna cena\" class=\"_1svub _lf05o\" tabindex=\"0\">69,<span class=\"_qnmdr\">00 zł</span></span>,\n",
       " <span aria-label=\"149,00 zł aktualna cena\" class=\"_1svub _lf05o\" tabindex=\"0\">149,<span class=\"_qnmdr\">00 zł</span></span>,\n",
       " <span aria-label=\"149,00 zł aktualna cena\" class=\"_1svub _lf05o\" tabindex=\"0\">149,<span class=\"_qnmdr\">00 zł</span></span>,\n",
       " <span aria-label=\"6,99 zł aktualna cena\" class=\"_1svub _lf05o\" tabindex=\"0\">6,<span class=\"_qnmdr\">99 zł</span></span>,\n",
       " <span aria-label=\"109,99 zł aktualna cena\" class=\"_1svub _lf05o\" tabindex=\"0\">109,<span class=\"_qnmdr\">99 zł</span></span>,\n",
       " <span aria-label=\"69,00 zł aktualna cena\" class=\"_1svub _lf05o\" tabindex=\"0\">69,<span class=\"_qnmdr\">00 zł</span></span>,\n",
       " <span aria-label=\"13,99 zł aktualna cena\" class=\"_1svub _lf05o\" tabindex=\"0\">13,<span class=\"_qnmdr\">99 zł</span></span>,\n",
       " <span aria-label=\"40,00 zł aktualna cena\" class=\"_1svub _lf05o\" tabindex=\"0\">40,<span class=\"_qnmdr\">00 zł</span></span>,\n",
       " <span aria-label=\"13,90 zł aktualna cena\" class=\"_1svub _lf05o\" tabindex=\"0\">13,<span class=\"_qnmdr\">90 zł</span></span>,\n",
       " <span aria-label=\"79,00 zł aktualna cena\" class=\"_1svub _lf05o\" tabindex=\"0\">79,<span class=\"_qnmdr\">00 zł</span></span>,\n",
       " <span aria-label=\"239,00 zł aktualna cena\" class=\"_1svub _lf05o\" tabindex=\"0\">239,<span class=\"_qnmdr\">00 zł</span></span>,\n",
       " <span aria-label=\"109,00 zł aktualna cena\" class=\"_1svub _lf05o\" tabindex=\"0\">109,<span class=\"_qnmdr\">00 zł</span></span>,\n",
       " <span aria-label=\"26,80 zł aktualna cena\" class=\"_1svub _lf05o\" tabindex=\"0\">26,<span class=\"_qnmdr\">80 zł</span></span>,\n",
       " <span aria-label=\"48,99 zł aktualna cena\" class=\"_1svub _lf05o\" tabindex=\"0\">48,<span class=\"_qnmdr\">99 zł</span></span>,\n",
       " <span aria-label=\"22,90 zł aktualna cena\" class=\"_1svub _lf05o\" tabindex=\"0\">22,<span class=\"_qnmdr\">90 zł</span></span>,\n",
       " <span aria-label=\"219,00 zł aktualna cena\" class=\"_1svub _lf05o\" tabindex=\"0\">219,<span class=\"_qnmdr\">00 zł</span></span>,\n",
       " <span aria-label=\"1 899,00 zł aktualna cena\" class=\"_1svub _lf05o\" tabindex=\"0\">1 899,<span class=\"_qnmdr\">00 zł</span></span>,\n",
       " <span class=\"_1svub _lf05o\">1 608,<span class=\"_qnmdr\">12 zł</span></span>,\n",
       " <span class=\"_1svub _lf05o\">219,<span class=\"_qnmdr\">00 zł</span></span>,\n",
       " <span class=\"_1svub _lf05o\">219,<span class=\"_qnmdr\">00 zł</span></span>,\n",
       " <span class=\"_1svub _lf05o\">199,<span class=\"_qnmdr\">00 zł</span></span>,\n",
       " <span class=\"_1svub _lf05o\">1 059,<span class=\"_qnmdr\">00 zł</span></span>]"
      ]
     },
     "execution_count": 114,
     "metadata": {},
     "output_type": "execute_result"
    }
   ],
   "source": [
    "soup.select(f'span[class=\"{price_class_name}\"]')"
   ]
  },
  {
   "cell_type": "code",
   "execution_count": 117,
   "id": "1ae15087",
   "metadata": {},
   "outputs": [
    {
     "data": {
      "text/plain": [
       "'1 608'"
      ]
     },
     "execution_count": 117,
     "metadata": {},
     "output_type": "execute_result"
    }
   ],
   "source": [
    "text = '1 608,12 zł'\n",
    "sep = ','\n",
    "stripped = text.split(sep, 1)[0]\n",
    "stripped"
   ]
  },
  {
   "cell_type": "code",
   "execution_count": 119,
   "id": "8fb7fa33",
   "metadata": {
    "scrolled": true
   },
   "outputs": [
    {
     "name": "stdout",
     "output_type": "stream",
     "text": [
      "1608\n",
      "1608\n",
      "2599\n",
      "829\n",
      "819\n",
      "1208\n",
      "995\n",
      "929\n",
      "40\n",
      "169\n",
      "42\n",
      "49\n",
      "1047\n",
      "239\n",
      "45\n",
      "44\n",
      "128\n",
      "159\n",
      "40\n",
      "153\n",
      "40\n",
      "99\n",
      "99\n",
      "979\n",
      "59\n",
      "34\n",
      "79\n",
      "124\n",
      "99\n",
      "34\n",
      "40\n",
      "219\n",
      "159\n",
      "149\n",
      "1011\n",
      "68\n",
      "107\n",
      "99\n",
      "79\n",
      "26\n",
      "28\n",
      "59\n",
      "22\n",
      "29\n",
      "139\n",
      "219\n",
      "179\n",
      "80\n",
      "219\n",
      "38\n",
      "139\n",
      "149\n",
      "69\n",
      "149\n",
      "149\n",
      "6\n",
      "109\n",
      "69\n",
      "13\n",
      "40\n",
      "13\n",
      "79\n",
      "239\n",
      "109\n",
      "26\n",
      "48\n",
      "22\n",
      "219\n",
      "1899\n",
      "1608\n",
      "219\n",
      "219\n",
      "199\n",
      "1059\n"
     ]
    }
   ],
   "source": [
    "for item in soup.select(f'span[class=\"{price_class_name}\"]'):\n",
    "    sep = ','\n",
    "    test = int(item.get_text().split(sep, 1)[0].replace(' ',''))\n",
    "    print(test)"
   ]
  },
  {
   "cell_type": "code",
   "execution_count": 103,
   "id": "0e2c640a",
   "metadata": {},
   "outputs": [
    {
     "data": {
      "text/plain": [
       "[]"
      ]
     },
     "execution_count": 103,
     "metadata": {},
     "output_type": "execute_result"
    }
   ],
   "source": [
    "soup.find_all({\"class\": \"_1svub _lf05o\"}"
   ]
  },
  {
   "cell_type": "code",
   "execution_count": 123,
   "id": "24b10b3b",
   "metadata": {
    "scrolled": true
   },
   "outputs": [
    {
     "data": {
      "text/plain": [
       "[<Element a at 0x1dbb03a2800>,\n",
       " <Element a at 0x1dbb03a1140>,\n",
       " <Element a at 0x1dbb03a1280>,\n",
       " <Element a at 0x1dbb03a1640>,\n",
       " <Element a at 0x1dbb03a1900>,\n",
       " <Element a at 0x1dbb03a1980>,\n",
       " <Element a at 0x1dbb03a18c0>,\n",
       " <Element a at 0x1dbb03a1680>,\n",
       " <Element a at 0x1dbb03a1c40>,\n",
       " <Element a at 0x1dbb03a1ac0>,\n",
       " <Element a at 0x1dbb03a1400>,\n",
       " <Element a at 0x1dbb03a1d40>,\n",
       " <Element a at 0x1dbb03a1740>,\n",
       " <Element a at 0x1dbb03a3400>,\n",
       " <Element a at 0x1dbb03a3a00>,\n",
       " <Element a at 0x1dbb03a3440>,\n",
       " <Element a at 0x1dbb03a3080>,\n",
       " <Element a at 0x1dbb03a3240>,\n",
       " <Element a at 0x1dbb03a3cc0>,\n",
       " <Element a at 0x1dbb03a3600>,\n",
       " <Element a at 0x1dbb03a3ac0>,\n",
       " <Element a at 0x1dbb03a3f80>,\n",
       " <Element a at 0x1dbb03a3580>,\n",
       " <Element a at 0x1dbb03a7200>,\n",
       " <Element a at 0x1dbb03a7080>,\n",
       " <Element a at 0x1dbb03a7240>,\n",
       " <Element a at 0x1dbb03a7300>,\n",
       " <Element a at 0x1dbb03a73c0>,\n",
       " <Element a at 0x1dbb03a7480>,\n",
       " <Element a at 0x1dbb03a7540>,\n",
       " <Element a at 0x1dbb03a7600>,\n",
       " <Element a at 0x1dbb03a76c0>,\n",
       " <Element a at 0x1dbb03a7780>,\n",
       " <Element a at 0x1dbb03a7840>,\n",
       " <Element a at 0x1dbb03a7900>,\n",
       " <Element a at 0x1dbb03a79c0>,\n",
       " <Element a at 0x1dbb03a7a80>,\n",
       " <Element a at 0x1dbb03a7b40>,\n",
       " <Element a at 0x1dbb03a7c00>,\n",
       " <Element a at 0x1dbb03a7cc0>,\n",
       " <Element a at 0x1dbb03a7d80>,\n",
       " <Element a at 0x1dbb03a7e40>,\n",
       " <Element a at 0x1dbb03a7f00>,\n",
       " <Element a at 0x1dbb03a7fc0>,\n",
       " <Element a at 0x1dbb03ab0c0>,\n",
       " <Element a at 0x1dbb03ab180>,\n",
       " <Element a at 0x1dbb03ab240>,\n",
       " <Element a at 0x1dbb03ab300>,\n",
       " <Element a at 0x1dbb03ab3c0>,\n",
       " <Element a at 0x1dbb03ab480>,\n",
       " <Element a at 0x1dbb03ab540>,\n",
       " <Element a at 0x1dbb03ab600>,\n",
       " <Element a at 0x1dbb03ab6c0>,\n",
       " <Element a at 0x1dbb03ab780>,\n",
       " <Element a at 0x1dbb03ab840>,\n",
       " <Element a at 0x1dbb03ab900>,\n",
       " <Element a at 0x1dbb03ab9c0>,\n",
       " <Element a at 0x1dbb03aba80>,\n",
       " <Element a at 0x1dbb03abb40>,\n",
       " <Element a at 0x1dbb03abc00>,\n",
       " <Element a at 0x1dbb03abcc0>,\n",
       " <Element a at 0x1dbb03abd80>,\n",
       " <Element a at 0x1dbb03abe40>,\n",
       " <Element a at 0x1dbb03abf00>,\n",
       " <Element a at 0x1dbb03abfc0>,\n",
       " <Element a at 0x1dbb03ac0c0>,\n",
       " <Element a at 0x1dbb03ac180>,\n",
       " <Element a at 0x1dbb03ac240>,\n",
       " <Element a at 0x1dbb03ac300>]"
      ]
     },
     "execution_count": 123,
     "metadata": {},
     "output_type": "execute_result"
    }
   ],
   "source": [
    "response.xpath(f'//div/h2/a[contains(@class, \"{item_class_name}\")]')"
   ]
  },
  {
   "cell_type": "code",
   "execution_count": 135,
   "id": "6e4c666e",
   "metadata": {
    "scrolled": true
   },
   "outputs": [],
   "source": [
    "tester = soup.select(f\"div h2 a[class='{item_class_name}']\")[0]"
   ]
  },
  {
   "cell_type": "code",
   "execution_count": 138,
   "id": "9acc2ef0",
   "metadata": {},
   "outputs": [
    {
     "data": {
      "text/plain": [
       "'https://allegro.pl/events/clicks?emission_unit_id=2d715ab1-c2c9-49df-bb9f-067692210c61&emission_id=d418464d-28fc-407d-afe7-f87301bf4e5e&type=OFFER&ts=1619094489025&redirect=https%3A%2F%2Fallegro.pl%2Foferta%2Fkonsola-nintendo-switch-neon-red-blue-joy-con-9658782177%3Fbi_s%3Dads%26bi_m%3Dlisting%253Adesktop%253Aquery%26bi_c%3DNWM0OWNjYzYtOTU2Ni00Yjg5LTkyYjUtNDc4M2I1MGM4OWU3AA%26bi_t%3Dape&placement=listing:desktop:query&sig=d36c7a8c7f98cdd276a002f619895569'"
      ]
     },
     "execution_count": 138,
     "metadata": {},
     "output_type": "execute_result"
    }
   ],
   "source": [
    "tester['href']"
   ]
  },
  {
   "cell_type": "code",
   "execution_count": 140,
   "id": "4de250d0",
   "metadata": {},
   "outputs": [
    {
     "name": "stdout",
     "output_type": "stream",
     "text": [
      "title:Konsola Nintendo Switch Neon Red/Blue Joy-Con\n",
      "link:https://allegro.pl/events/clicks?emission_unit_id=2d715ab1-c2c9-49df-bb9f-067692210c61&emission_id=d418464d-28fc-407d-afe7-f87301bf4e5e&type=OFFER&ts=1619094489025&redirect=https%3A%2F%2Fallegro.pl%2Foferta%2Fkonsola-nintendo-switch-neon-red-blue-joy-con-9658782177%3Fbi_s%3Dads%26bi_m%3Dlisting%253Adesktop%253Aquery%26bi_c%3DNWM0OWNjYzYtOTU2Ni00Yjg5LTkyYjUtNDc4M2I1MGM4OWU3AA%26bi_t%3Dape&placement=listing:desktop:query&sig=d36c7a8c7f98cdd276a002f619895569\n",
      "title:Konsola Nintendo Switch Grey Joy-Con\n",
      "link:https://allegro.pl/events/clicks?emission_unit_id=dc258e49-8c9f-420e-8b80-1751239bac7f&emission_id=d418464d-28fc-407d-afe7-f87301bf4e5e&type=OFFER&ts=1619094489025&redirect=https%3A%2F%2Fallegro.pl%2Foferta%2Fkonsola-nintendo-switch-grey-joy-con-10031790228%3Fbi_s%3Dads%26bi_m%3Dlisting%253Adesktop%253Aquery%26bi_c%3DNWM0OWNjYzYtOTU2Ni00Yjg5LTkyYjUtNDc4M2I1MGM4OWU3AA%26bi_t%3Dape&placement=listing:desktop:query&sig=846c8a8ca243df957ffca9c5ec2ecc7e\n",
      "title:Nintendo Switch Joy-Con v2 + Ring Fit Adventure\n",
      "link:https://allegro.pl/oferta/nintendo-switch-joy-con-v2-ring-fit-adventure-10040697685\n",
      "title:NINTENDO SWITCH LITE GREY - ZESTAW SKLEP !\n",
      "link:https://allegro.pl/oferta/nintendo-switch-lite-grey-zestaw-sklep-9339666244\n",
      "title:NINTENDO SWITCH LITE 32GB GRAY / SZARY - KOMPLET\n",
      "link:https://allegro.pl/oferta/nintendo-switch-lite-32gb-gray-szary-komplet-10567629291\n",
      "title:Switch Lite Turkusowa Animal Crossing +3msc Online\n",
      "link:https://allegro.pl/oferta/switch-lite-turkusowa-animal-crossing-3msc-online-10046099216\n",
      "title:Konsola Nintendo Switch Lite Gray\n",
      "link:https://allegro.pl/oferta/konsola-nintendo-switch-lite-gray-9919906116\n",
      "title:Konsola Nintendo Switch Lite + Minecraft\n",
      "link:https://allegro.pl/oferta/konsola-nintendo-switch-lite-minecraft-10225259411\n",
      "title:ETUI FUTERAŁ WZMOCNIONY DO NINTENDO SWITCH + SZKŁO\n",
      "link:https://allegro.pl/oferta/etui-futeral-wzmocniony-do-nintendo-switch-szklo-8333831082\n",
      "title:BIG BEN Switch Duże etui na konsole + akcesoria\n",
      "link:https://allegro.pl/oferta/big-ben-switch-duze-etui-na-konsole-akcesoria-9530236820\n",
      "title:FUTERAŁ ETUI DO NINTENDO SWITCH SZKŁO HARTOWANE H9\n",
      "link:https://allegro.pl/oferta/futeral-etui-do-nintendo-switch-szklo-hartowane-h9-7508058027\n",
      "title:HORI Switch ETUI FOLIA GRIP Zestaw SKYRIM Starter\n",
      "link:https://allegro.pl/oferta/hori-switch-etui-folia-grip-zestaw-skyrim-starter-9310773216\n",
      "title:Konsola Nintendo Switch Lite Yellow (żółta)\n",
      "link:https://allegro.pl/events/clicks?emission_unit_id=1bb517b0-05a9-49f6-960a-d877103e6af3&emission_id=d418464d-28fc-407d-afe7-f87301bf4e5e&type=OFFER&ts=1619094489025&redirect=https%3A%2F%2Fallegro.pl%2Foferta%2Fkonsola-nintendo-switch-lite-yellow-zolta-10206953699%3Fbi_s%3Dads%26bi_m%3Dlisting%253Adesktop%253Aquery%26bi_c%3DOTA3YWRlNDAtYzJmMy00MzZlLWExMjctM2E1YjlmZmMxZDUwAA%26bi_t%3Dape&placement=listing:desktop:query&sig=8c90622cd1355287bf2f0cddc6a8331e\n",
      "title:HORI SWITCH Split Pad Pro PAC MAN\n",
      "link:https://allegro.pl/oferta/hori-switch-split-pad-pro-pac-man-9953898559\n",
      "title:NILLKIN BATTLER ETUI CASE DO NINTENDO SWITCH\n",
      "link:https://allegro.pl/oferta/nillkin-battler-etui-case-do-nintendo-switch-9543514149\n",
      "title:POKROWIEC ETUI NA GRY DO NINTENDO SWITCH\n",
      "link:https://allegro.pl/oferta/pokrowiec-etui-na-gry-do-nintendo-switch-8605125210\n",
      "title:Oryginalny zasilacz / ładowarka do Nintendo Switch\n",
      "link:https://allegro.pl/oferta/oryginalny-zasilacz-ladowarka-do-nintendo-switch-10456889937\n",
      "title:Torba + Etui na konsole Nintendo SWITCH PowerA\n",
      "link:https://allegro.pl/oferta/torba-etui-na-konsole-nintendo-switch-powera-9806557965\n",
      "title:FUTERAŁ ETUI DO NINTENDO SWITCH + SZKŁO HARTOWANE\n",
      "link:https://allegro.pl/oferta/futeral-etui-do-nintendo-switch-szklo-hartowane-8886157127\n",
      "title:ETUI DO NINTENDO SWITCH BAG POKROWIEC FUTERAŁ\n",
      "link:https://allegro.pl/oferta/etui-do-nintendo-switch-bag-pokrowiec-futeral-9342938521\n",
      "title:ETUI DO NINTENDO SWITCH CASE POKROWIEC FUTERAŁ\n",
      "link:https://allegro.pl/oferta/etui-do-nintendo-switch-case-pokrowiec-futeral-9868944385\n",
      "title:BIG BEN SWITCH Zestaw ETUI GRIP SZKŁO na ekran 9H\n",
      "link:https://allegro.pl/oferta/big-ben-switch-zestaw-etui-grip-szklo-na-ekran-9h-9530313524\n",
      "title:Nintendo Switch ETUI FOLIA SŁUCHAWKI Zestaw ZELDA\n",
      "link:https://allegro.pl/oferta/nintendo-switch-etui-folia-sluchawki-zestaw-zelda-9237936680\n",
      "title:Nintendo Switch Lite 32 GB Wi-Fi / NOWA\n",
      "link:https://allegro.pl/events/clicks?emission_unit_id=294815a8-6c74-45ff-87c7-564763ea0162&emission_id=d418464d-28fc-407d-afe7-f87301bf4e5e&type=OFFER&ts=1619094489026&redirect=https%3A%2F%2Fallegro.pl%2Foferta%2Fnintendo-switch-lite-32-gb-wi-fi-nowa-10243405460%3Fbi_s%3Dads%26bi_m%3Dlisting%253Adesktop%253Aquery%26bi_c%3DODNmZDVkMTktMDQ2ZS00NmNhLTg1OTUtN2ZmOWZiODQ5OTczAA%26bi_t%3Dape&placement=listing:desktop:query&sig=636b69b7ff547f2fedd2bca52bb7de2c\n",
      "title:Słuchawki przewodowe do Nintendo Switch Zelda PDP\n",
      "link:https://allegro.pl/oferta/sluchawki-przewodowe-do-nintendo-switch-zelda-pdp-9237969422\n",
      "title:FUTERAŁ ETUI DO NINTENDO SWITCH SZKŁO HARTOWANE H9\n",
      "link:https://allegro.pl/oferta/futeral-etui-do-nintendo-switch-szklo-hartowane-h9-9725457533\n",
      "title:Nintendo Switch Etui Play & Charge / PDP\n",
      "link:https://allegro.pl/oferta/nintendo-switch-etui-play-charge-pdp-9179836845\n",
      "title:Kontroler PAD do Nintendo Switch iPega PG-9136\n",
      "link:https://allegro.pl/oferta/kontroler-pad-do-nintendo-switch-ipega-pg-9136-9923104769\n",
      "title:BIG BEN Switch Etui na konsole czarne\n",
      "link:https://allegro.pl/oferta/big-ben-switch-etui-na-konsole-czarne-9530399050\n",
      "title:Etui Pouch Bag pokrowiec Nintendo Switch 4xkolory\n",
      "link:https://allegro.pl/oferta/etui-pouch-bag-pokrowiec-nintendo-switch-4xkolory-7483124718\n",
      "title:Folia na ekran Zelda Collector PDP Nintendo Switch\n",
      "link:https://allegro.pl/oferta/folia-na-ekran-zelda-collector-pdp-nintendo-switch-9237977276\n",
      "title:Nintendo Switch pad bezprzewodowy Afterglow PDP\n",
      "link:https://allegro.pl/oferta/nintendo-switch-pad-bezprzewodowy-afterglow-pdp-9168280938\n",
      "title:Torba + Etui na konsole Super Mario SWITCH PowerA\n",
      "link:https://allegro.pl/oferta/torba-etui-na-konsole-super-mario-switch-powera-9806557084\n",
      "title:BIG BEN Switch Grip GoPlay do konsoli + etui\n",
      "link:https://allegro.pl/oferta/big-ben-switch-grip-goplay-do-konsoli-etui-9539120607\n",
      "title:Konsola Nintendo Switch Lite Grey (szara)\n",
      "link:https://allegro.pl/events/clicks?emission_unit_id=29a77d0a-a888-4d31-83ad-23b4e6d120a6&emission_id=d418464d-28fc-407d-afe7-f87301bf4e5e&type=OFFER&ts=1619094489026&redirect=https%3A%2F%2Fallegro.pl%2Foferta%2Fkonsola-nintendo-switch-lite-grey-szara-10206944596%3Fbi_s%3Dads%26bi_m%3Dlisting%253Adesktop%253Aquery%26bi_c%3DOTA3YWRlNDAtYzJmMy00MzZlLWExMjctM2E1YjlmZmMxZDUwAA%26bi_t%3Dape&placement=listing:desktop:query&sig=6f23be9f0233db3e02683493802a5fc1\n",
      "title:KJH Kierownica do Nintendo Switch Joy-Con\n",
      "link:https://allegro.pl/oferta/kjh-kierownica-do-nintendo-switch-joy-con-10414673487\n",
      "title:Kontroler Pad Nintendo Switch Trust GXT 1230 Muta\n",
      "link:https://allegro.pl/oferta/kontroler-pad-nintendo-switch-trust-gxt-1230-muta-9341580131\n",
      "title:Ładowarka do Joy-Cons Nintendo Switch Grip / PDP\n",
      "link:https://allegro.pl/oferta/ladowarka-do-joy-cons-nintendo-switch-grip-pdp-9179801035\n",
      "title:Nintendo Switch Etui Mario Remix Edition / PDP\n",
      "link:https://allegro.pl/oferta/nintendo-switch-etui-mario-remix-edition-pdp-9179879002\n",
      "title:ETUI WZMOCNIONE NA NINTENDO SWITCH POKROWIEC 23\n",
      "link:https://allegro.pl/oferta/etui-wzmocnione-na-nintendo-switch-pokrowiec-23-10518449117\n",
      "title:NAKŁADKI GUMKI ANALOGI NA NINTENDO SWITCH MARIO\n",
      "link:https://allegro.pl/oferta/nakladki-gumki-analogi-na-nintendo-switch-mario-9949460094\n",
      "title:ETUI FUTERAŁ POKROWIEC ALOGY DO NINTENDO SWITCH\n",
      "link:https://allegro.pl/oferta/etui-futeral-pokrowiec-alogy-do-nintendo-switch-9323855692\n",
      "title:Joystick gałka drążek analog joy-con-a Czarny\n",
      "link:https://allegro.pl/oferta/joystick-galka-drazek-analog-joy-con-a-czarny-9191592353\n",
      "title:Stylowe etui materiał futerał loft Switch 3xKolor\n",
      "link:https://allegro.pl/oferta/stylowe-etui-material-futeral-loft-switch-3xkolor-8257382350\n",
      "title:Nintendo Switch Etui podróżne Pikachu POKEMON PDP\n",
      "link:https://allegro.pl/oferta/nintendo-switch-etui-podrozne-pikachu-pokemon-pdp-9168141695\n",
      "title:GRA NINTENDO SWITCH SUPER MARIO 3D ALL STARS\n",
      "link:https://allegro.pl/events/clicks?emission_unit_id=9f311ed5-2cd7-453b-b986-e6afe21504b6&emission_id=d418464d-28fc-407d-afe7-f87301bf4e5e&type=OFFER&ts=1619094489026&redirect=https%3A%2F%2Fallegro.pl%2Foferta%2Fgra-nintendo-switch-super-mario-3d-all-stars-9765305449%3Fbi_s%3Dads%26bi_m%3Dlisting%253Adesktop%253Aquery%26bi_c%3DMmZhMDUyNTQtM2U2Mi00YWFmLWE3YTgtMGI2M2RmNTgyMWI5AA%26bi_t%3Dape&placement=listing:desktop:query&sig=349967a3a620fbcc70ede58f8ad8698d\n",
      "title:Nintendo Switch WALIZKA + ETUI Elite Edition / PDP\n",
      "link:https://allegro.pl/oferta/nintendo-switch-walizka-etui-elite-edition-pdp-9237948030\n",
      "title:Bluetooth Gamepad kontroler do Nintendo Switch Pro\n",
      "link:https://allegro.pl/oferta/bluetooth-gamepad-kontroler-do-nintendo-switch-pro-10525960058\n",
      "title:PowerA SWITCH Pad bezprzewodowy Animal Crossing\n",
      "link:https://allegro.pl/oferta/powera-switch-pad-bezprzewodowy-animal-crossing-9617637342\n",
      "title:Zestaw: kuferek/etui na konsolę + szkło hartowane\n",
      "link:https://allegro.pl/oferta/zestaw-kuferek-etui-na-konsole-szklo-hartowane-7158180653\n",
      "title:PowerA SWITCH Ładowarka do JoyCon i Pro Controller\n",
      "link:https://allegro.pl/oferta/powera-switch-ladowarka-do-joycon-i-pro-controller-9424710910\n",
      "title:HORI Nintendo Switch PAD FIGHTING STICK MINI\n",
      "link:https://allegro.pl/oferta/hori-nintendo-switch-pad-fighting-stick-mini-9285168530\n",
      "title:PowerA SWITCH LITE Etui + folia Pokemon Battle\n",
      "link:https://allegro.pl/oferta/powera-switch-lite-etui-folia-pokemon-battle-9432971178\n",
      "title:Słuchawki przewodowe do SWITCH LVL40 Red/Blue PDP\n",
      "link:https://allegro.pl/oferta/sluchawki-przewodowe-do-switch-lvl40-red-blue-pdp-9237962781\n",
      "title:PowerA SWITCH Słuchawki przewodowe Pokemon Pikachu\n",
      "link:https://allegro.pl/oferta/powera-switch-sluchawki-przewodowe-pokemon-pikachu-9443529354\n",
      "title:SZKŁO HARTOWANE NINTENDO SWITCH LITE 9H 2.5D\n",
      "link:https://allegro.pl/oferta/szklo-hartowane-nintendo-switch-lite-9h-2-5d-9862503503\n",
      "title:Gra NINTENDO SWITCH Minecraft PL Folia\n",
      "link:https://allegro.pl/events/clicks?emission_unit_id=d5ca6256-6e95-4c31-ab25-39e873baa33d&emission_id=d418464d-28fc-407d-afe7-f87301bf4e5e&type=OFFER&ts=1619094489026&redirect=https%3A%2F%2Fallegro.pl%2Foferta%2Fgra-nintendo-switch-minecraft-pl-folia-8377708746%3Fbi_s%3Dads%26bi_m%3Dlisting%253Adesktop%253Aquery%26bi_c%3DNjk5ODg3MWYtMmQ3Ni00M2M4LTkyZDUtYmVjYzVmM2JkYjY0AA%26bi_t%3Dape&placement=listing:desktop:query&sig=0f28107b7c5be03b36a3517fe7aeb9b7\n",
      "title:PowerA SWITCH LITE Etui + folia Pokemon Graffiti\n",
      "link:https://allegro.pl/oferta/powera-switch-lite-etui-folia-pokemon-graffiti-9432973383\n",
      "title:OSŁONA na Ekran do Nintendo Switch Szkło Hartowane\n",
      "link:https://allegro.pl/oferta/oslona-na-ekran-do-nintendo-switch-szklo-hartowane-8157020075\n",
      "title:ETUI FUTERAŁ WZMOCNIONY DO NINTENDO SWITCH Czarny\n",
      "link:https://allegro.pl/oferta/etui-futeral-wzmocniony-do-nintendo-switch-czarny-10100353251\n",
      "title:SZKŁO OCHRONNE HARTOWANE DO NINTENDO SWITCH 3D\n",
      "link:https://allegro.pl/oferta/szklo-ochronne-hartowane-do-nintendo-switch-3d-10132262121\n",
      "title:SNAKEBYTE UCHWYT SAMOCHODOWY DO NINTENDO TELEFONU\n",
      "link:https://allegro.pl/oferta/snakebyte-uchwyt-samochodowy-do-nintendo-telefonu-9806659417\n",
      "title:bezprzewodowy konsoli Nintendo Switch Pro białe\n",
      "link:https://allegro.pl/oferta/bezprzewodowy-konsoli-nintendo-switch-pro-biale-10455473653\n",
      "title:Nintendo Switch Pad przewodowy DELUX+ Czarny PDP\n",
      "link:https://allegro.pl/oferta/nintendo-switch-pad-przewodowy-delux-czarny-pdp-9179515766\n",
      "title:ETUI FUTERAŁ WZMOCNIONY DO NINTENDO SWITCH CASE 23\n",
      "link:https://allegro.pl/oferta/etui-futeral-wzmocniony-do-nintendo-switch-case-23-10510922639\n",
      "title:ETUI FUTERAŁ WZMOCNIONY DO NINTENDO SWITCH + SZKŁO\n",
      "link:https://allegro.pl/oferta/etui-futeral-wzmocniony-do-nintendo-switch-szklo-10081068038\n",
      "title:Joystick gałka drążek analog joy-con'a [CZARNY]\n",
      "link:https://allegro.pl/oferta/joystick-galka-drazek-analog-joy-con-a-czarny-8588803537\n",
      "title:GRA NINTENDO SWITCH SUPER MARIO 3D ALL STARS\n",
      "link:https://allegro.pl/events/clicks?emission_unit_id=ddd8d682-d4e1-41c7-b823-9819e02a08e7&emission_id=d418464d-28fc-407d-afe7-f87301bf4e5e&type=OFFER&ts=1619094489026&redirect=https%3A%2F%2Fallegro.pl%2Foferta%2Fgra-nintendo-switch-super-mario-3d-all-stars-9765305367%3Fbi_s%3Dads%26bi_m%3Dlisting%253Adesktop%253Aquery%26bi_c%3DNjk5ODg3MWYtMmQ3Ni00M2M4LTkyZDUtYmVjYzVmM2JkYjY0AA%26bi_t%3Dape&placement=listing:desktop:query&sig=8d6b7cff3ccf403b1829022e52fdad1d\n",
      "title:KONSOLA NINTENDO SWITCH MONSTER HUNTER RISE ED.\n",
      "link:https://allegro.pl/events/clicks?emission_unit_id=b2ecb8e2-1d2d-4061-8fc3-acdb16694557&emission_id=d418464d-28fc-407d-afe7-f87301bf4e5e&type=OFFER&ts=1619094489026&redirect=https%3A%2F%2Fallegro.pl%2Foferta%2Fkonsola-nintendo-switch-monster-hunter-rise-ed-10529884019%3Fbi_s%3Dads%26bi_m%3Dlisting%253Adesktop%253Aquery%26bi_c%3DMTgyNDMwMjAtNGVkZi00MDM5LTllODQtODYyZTZmZGQ1NzNlAA%26bi_t%3Dape&placement=listing:desktop:query&sig=f104ade87225571fe41b8a7f6f2c19e0\n"
     ]
    }
   ],
   "source": [
    "for item in soup.select(f\"div h2 a[class='{item_class_name}']\"):\n",
    "    test1 = item.get_text()\n",
    "    test2 = item['href']\n",
    "    print('title:'+test1)\n",
    "    print('link:'+test2)"
   ]
  }
 ],
 "metadata": {
  "kernelspec": {
   "display_name": "Python 3",
   "language": "python",
   "name": "python3"
  },
  "language_info": {
   "codemirror_mode": {
    "name": "ipython",
    "version": 3
   },
   "file_extension": ".py",
   "mimetype": "text/x-python",
   "name": "python",
   "nbconvert_exporter": "python",
   "pygments_lexer": "ipython3",
   "version": "3.9.6"
  }
 },
 "nbformat": 4,
 "nbformat_minor": 5
}
