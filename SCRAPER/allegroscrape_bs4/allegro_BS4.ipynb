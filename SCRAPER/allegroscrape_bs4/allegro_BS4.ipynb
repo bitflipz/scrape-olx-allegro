{
 "cells": [
  {
   "cell_type": "code",
   "execution_count": 6,
   "id": "30624616",
   "metadata": {
    "scrolled": true
   },
   "outputs": [],
   "source": [
    "import requests\n",
    "from bs4 import BeautifulSoup as bs\n",
    "import pandas as pd\n",
    "from lxml import etree"
   ]
  },
  {
   "cell_type": "code",
   "execution_count": 2,
   "id": "1524592c",
   "metadata": {},
   "outputs": [],
   "source": [
    "URL = 'http://allegro.pl/listing?string=nintendo%20switch'\n",
    "\n",
    "HEADERS = ({'User-Agent':\n",
    "            'Mozilla/5.0 (X11; Linux x86_64) AppleWebKit/537.36 \\\n",
    "            (KHTML, like Gecko) Chrome/44.0.2403.157 Safari/537.36',\\\n",
    "            'Accept-Language': 'en-US, en;q=0.5'})"
   ]
  },
  {
   "cell_type": "code",
   "execution_count": 3,
   "id": "a84514b9",
   "metadata": {},
   "outputs": [],
   "source": [
    "r = requests.get(URL, headers=HEADERS)\n",
    "soup = bs(r.content, \"html.parser\")\n",
    "response = etree.HTML(str(soup))"
   ]
  },
  {
   "cell_type": "code",
   "execution_count": 4,
   "id": "1e5f63e5",
   "metadata": {},
   "outputs": [
    {
     "data": {
      "text/plain": [
       "<html><head><title>allegro.pl</title><style>#cmsg{animation: A 1.5s;}@keyframes A{0%{opacity:0;}99%{opacity:0;}100%{opacity:1;}}</style></head><body style=\"margin:0\"><p id=\"cmsg\">Please enable JS and disable any ad blocker</p><script>var dd={'cid':'AHrlqAAAAAMAPIYSHmo8UnMABa2jdQ==','hsh':'77DC0FFBAA0B77570F6B414F8E5BDB','t':'fe','s':29560,'host':'geo.captcha-delivery.com'}</script><script src=\"https://ct.captcha-delivery.com/c.js\"></script></body></html>"
      ]
     },
     "execution_count": 4,
     "metadata": {},
     "output_type": "execute_result"
    }
   ],
   "source": [
    "soup"
   ]
  },
  {
   "cell_type": "code",
   "execution_count": 5,
   "id": "5db70d4e",
   "metadata": {},
   "outputs": [
    {
     "ename": "TypeError",
     "evalue": "'NoneType' object is not subscriptable",
     "output_type": "error",
     "traceback": [
      "\u001b[1;31m---------------------------------------------------------------------------\u001b[0m",
      "\u001b[1;31mTypeError\u001b[0m                                 Traceback (most recent call last)",
      "\u001b[1;32m<ipython-input-5-80c44f798787>\u001b[0m in \u001b[0;36m<module>\u001b[1;34m\u001b[0m\n\u001b[0;32m      4\u001b[0m \u001b[1;33m\u001b[0m\u001b[0m\n\u001b[0;32m      5\u001b[0m \u001b[0melement\u001b[0m \u001b[1;33m=\u001b[0m \u001b[0msoup\u001b[0m\u001b[1;33m.\u001b[0m\u001b[0mfind\u001b[0m\u001b[1;33m(\u001b[0m\u001b[0mattrs\u001b[0m\u001b[1;33m=\u001b[0m\u001b[1;33m{\u001b[0m\u001b[1;34m\"aria-label\"\u001b[0m\u001b[1;33m:\u001b[0m\u001b[0mre\u001b[0m\u001b[1;33m.\u001b[0m\u001b[0mcompile\u001b[0m\u001b[1;33m(\u001b[0m\u001b[1;34m'wpisz stron'\u001b[0m\u001b[1;33m)\u001b[0m\u001b[1;33m}\u001b[0m\u001b[1;33m)\u001b[0m\u001b[1;33m\u001b[0m\u001b[1;33m\u001b[0m\u001b[0m\n\u001b[1;32m----> 6\u001b[1;33m \u001b[0mlast_page\u001b[0m \u001b[1;33m=\u001b[0m \u001b[0mint\u001b[0m\u001b[1;33m(\u001b[0m\u001b[0melement\u001b[0m\u001b[1;33m[\u001b[0m\u001b[1;34m'data-maxpage'\u001b[0m\u001b[1;33m]\u001b[0m\u001b[1;33m)\u001b[0m\u001b[1;33m\u001b[0m\u001b[1;33m\u001b[0m\u001b[0m\n\u001b[0m\u001b[0;32m      7\u001b[0m \u001b[1;33m\u001b[0m\u001b[0m\n\u001b[0;32m      8\u001b[0m \u001b[1;33m\u001b[0m\u001b[0m\n",
      "\u001b[1;31mTypeError\u001b[0m: 'NoneType' object is not subscriptable"
     ]
    }
   ],
   "source": [
    "import re\n",
    "\n",
    "base_url = 'http://allegro.pl/listing?string=nintendo%20switch&delivery_time=two_days&offerTypeBuyNow=1&p='\n",
    "\n",
    "element = soup.find(attrs={\"aria-label\":re.compile('wpisz stron')})\n",
    "last_page = int(element['data-maxpage'])\n",
    "\n",
    "\n",
    "print(last_page)"
   ]
  },
  {
   "cell_type": "code",
   "execution_count": 14,
   "id": "cf625f1e",
   "metadata": {},
   "outputs": [
    {
     "name": "stdout",
     "output_type": "stream",
     "text": [
      "_w7z6o _uj8z7 meqh_en mpof_z0 mqu1_16 _9c44d_2vTdY\n",
      "_1svub _lf05o\n"
     ]
    }
   ],
   "source": [
    "item_class_list = response.xpath('//div/h2/a/@class')\n",
    "item_class_name = min(item_class_list[1:], key=lambda word: len(word))\n",
    "print(item_class_name)\n",
    "price_class_list = response.xpath(\"//div/span[contains(., ',')]/@class\")\n",
    "price_class_name = min(price_class_list[1:], key=lambda word: len(word))\n",
    "print(price_class_name)"
   ]
  },
  {
   "cell_type": "code",
   "execution_count": null,
   "id": "d60f5e61",
   "metadata": {},
   "outputs": [],
   "source": [
    "l = []\n",
    "for page in range(1,last_page+1,1):\n",
    "    print('scraped: '+base_url+str(page))\n",
    "    r=requests.get(base_url+str(page), headers={'User-agent': 'Mozilla/5.0 (X11; Ubuntu; Linux x86_64; rv:61.0) Gecko/20100101 Firefox/61.0'})\n",
    "    c=r.content\n",
    "    soup=bs(c, 'html.parser')\n",
    "    for item, price in zip(soup.select(f\"div h2 a[class='{item_class_name}']\"), soup.select(f'span[class=\"{price_class_name}\"]')):\n",
    "        d = {}\n",
    "        d['title'] = item.get_text()\n",
    "        d['link'] = item['href']\n",
    "        try:\n",
    "            sep = ','\n",
    "            d['price'] = int(item.get_text().split(sep, 1)[0].replace(' ',''))\n",
    "            except:\n",
    "                d['price'] = 0\n",
    "                l.append(d)"
   ]
  },
  {
   "cell_type": "code",
   "execution_count": null,
   "id": "e72a942c",
   "metadata": {},
   "outputs": [],
   "source": [
    "l"
   ]
  },
  {
   "cell_type": "code",
   "execution_count": null,
   "id": "4a15450d",
   "metadata": {},
   "outputs": [],
   "source": [
    "df=pd.DataFrame(l)"
   ]
  },
  {
   "cell_type": "code",
   "execution_count": null,
   "id": "da459a03",
   "metadata": {},
   "outputs": [],
   "source": [
    "df"
   ]
  },
  {
   "cell_type": "code",
   "execution_count": 8,
   "id": "519661c5",
   "metadata": {},
   "outputs": [],
   "source": [
    "#df.to_csv('output.csv')"
   ]
  },
  {
   "cell_type": "code",
   "execution_count": 9,
   "id": "8d5e94bb",
   "metadata": {},
   "outputs": [
    {
     "data": {
      "text/plain": [
       "array([[<AxesSubplot:title={'center':'price'}>]], dtype=object)"
      ]
     },
     "execution_count": 9,
     "metadata": {},
     "output_type": "execute_result"
    },
    {
     "data": {
      "image/png": "[encoded data removed]",
      "text/plain": [
       "<Figure size 432x288 with 1 Axes>"
      ]
     },
     "metadata": {
      "needs_background": "light"
     },
     "output_type": "display_data"
    }
   ],
   "source": [
    "df.hist('price')"
   ]
  },
  {
   "cell_type": "code",
   "execution_count": 12,
   "id": "feee599e",
   "metadata": {},
   "outputs": [],
   "source": [
    "df2 = df[df['price']>=500]"
   ]
  },
  {
   "cell_type": "code",
   "execution_count": 13,
   "id": "f4ad91e4",
   "metadata": {},
   "outputs": [
    {
     "data": {
      "text/plain": [
       "array([[<AxesSubplot:title={'center':'price'}>]], dtype=object)"
      ]
     },
     "execution_count": 13,
     "metadata": {},
     "output_type": "execute_result"
    },
    {
     "data": {
      "image/png": "[encoded data removed]",
      "text/plain": [
       "<Figure size 432x288 with 1 Axes>"
      ]
     },
     "metadata": {
      "needs_background": "light"
     },
     "output_type": "display_data"
    }
   ],
   "source": [
    "df2.hist('price')"
   ]
  }
 ],
 "metadata": {
  "kernelspec": {
   "display_name": "Python 3",
   "language": "python",
   "name": "python3"
  },
  "language_info": {
   "codemirror_mode": {
    "name": "ipython",
    "version": 3
   },
   "file_extension": ".py",
   "mimetype": "text/x-python",
   "name": "python",
   "nbconvert_exporter": "python",
   "pygments_lexer": "ipython3",
   "version": "3.9.6"
  }
 },
 "nbformat": 4,
 "nbformat_minor": 5
}
